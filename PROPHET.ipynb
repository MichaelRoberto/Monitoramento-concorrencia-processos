{
 "cells": [
  {
   "cell_type": "code",
   "execution_count": null,
   "metadata": {},
   "outputs": [],
   "source": [
    "# PROPHET\n",
    "# Rotina 04 - TempoMinutos"
   ]
  },
  {
   "cell_type": "code",
   "execution_count": 1,
   "metadata": {},
   "outputs": [],
   "source": [
    "import pandas as pd\n",
    "import numpy as np\n",
    "import matplotlib.pyplot as plt\n",
    "from sklearn import metrics"
   ]
  },
  {
   "cell_type": "code",
   "execution_count": null,
   "metadata": {
    "scrolled": false
   },
   "outputs": [],
   "source": [
    "from fbprophet import Prophet\n",
    "from fbprophet.plot import add_changepoints_to_plot\n",
    "from fbprophet.plot import plot_cross_validation_metric\n",
    "from fbprophet.diagnostics import performance_matrics\n",
    "from fbprophet.diagnostics import cross_validations"
   ]
  },
  {
   "cell_type": "code",
   "execution_count": 2,
   "metadata": {},
   "outputs": [],
   "source": [
    "# Efetua carga da base\n",
    "_df = pd.read_excel('DataFrame_Processos_Percentual_Base_Completa.xlsx')\n",
    "_df = _df.loc[_df['Processo']=='Rotina_04']"
   ]
  },
  {
   "cell_type": "code",
   "execution_count": 3,
   "metadata": {},
   "outputs": [
    {
     "data": {
      "text/html": [
       "<div>\n",
       "<style scoped>\n",
       "    .dataframe tbody tr th:only-of-type {\n",
       "        vertical-align: middle;\n",
       "    }\n",
       "\n",
       "    .dataframe tbody tr th {\n",
       "        vertical-align: top;\n",
       "    }\n",
       "\n",
       "    .dataframe thead th {\n",
       "        text-align: right;\n",
       "    }\n",
       "</style>\n",
       "<table border=\"1\" class=\"dataframe\">\n",
       "  <thead>\n",
       "    <tr style=\"text-align: right;\">\n",
       "      <th></th>\n",
       "      <th>ds</th>\n",
       "      <th>DtHoraInicio</th>\n",
       "      <th>DtHoraFim</th>\n",
       "      <th>Processo</th>\n",
       "      <th>y</th>\n",
       "      <th>TempoMinutosInicioExecucao</th>\n",
       "    </tr>\n",
       "  </thead>\n",
       "  <tbody>\n",
       "    <tr>\n",
       "      <th>1077</th>\n",
       "      <td>2021-01-05</td>\n",
       "      <td>2021-01-05 02:44:00</td>\n",
       "      <td>2021-01-05 06:30:00</td>\n",
       "      <td>Rotina_04</td>\n",
       "      <td>226</td>\n",
       "      <td>164.0</td>\n",
       "    </tr>\n",
       "    <tr>\n",
       "      <th>1078</th>\n",
       "      <td>2021-01-06</td>\n",
       "      <td>2021-01-06 02:16:00</td>\n",
       "      <td>2021-01-06 06:52:00</td>\n",
       "      <td>Rotina_04</td>\n",
       "      <td>276</td>\n",
       "      <td>136.0</td>\n",
       "    </tr>\n",
       "    <tr>\n",
       "      <th>1079</th>\n",
       "      <td>2021-01-07</td>\n",
       "      <td>2021-01-07 04:27:00</td>\n",
       "      <td>2021-01-07 11:11:00</td>\n",
       "      <td>Rotina_04</td>\n",
       "      <td>404</td>\n",
       "      <td>267.0</td>\n",
       "    </tr>\n",
       "    <tr>\n",
       "      <th>1080</th>\n",
       "      <td>2021-01-08</td>\n",
       "      <td>2021-01-08 04:06:00</td>\n",
       "      <td>2021-01-08 10:44:00</td>\n",
       "      <td>Rotina_04</td>\n",
       "      <td>398</td>\n",
       "      <td>246.0</td>\n",
       "    </tr>\n",
       "    <tr>\n",
       "      <th>1081</th>\n",
       "      <td>2021-01-09</td>\n",
       "      <td>2021-01-09 02:06:00</td>\n",
       "      <td>2021-01-09 06:15:00</td>\n",
       "      <td>Rotina_04</td>\n",
       "      <td>249</td>\n",
       "      <td>126.0</td>\n",
       "    </tr>\n",
       "  </tbody>\n",
       "</table>\n",
       "</div>"
      ],
      "text/plain": [
       "             ds        DtHoraInicio           DtHoraFim   Processo    y  \\\n",
       "1077 2021-01-05 2021-01-05 02:44:00 2021-01-05 06:30:00  Rotina_04  226   \n",
       "1078 2021-01-06 2021-01-06 02:16:00 2021-01-06 06:52:00  Rotina_04  276   \n",
       "1079 2021-01-07 2021-01-07 04:27:00 2021-01-07 11:11:00  Rotina_04  404   \n",
       "1080 2021-01-08 2021-01-08 04:06:00 2021-01-08 10:44:00  Rotina_04  398   \n",
       "1081 2021-01-09 2021-01-09 02:06:00 2021-01-09 06:15:00  Rotina_04  249   \n",
       "\n",
       "      TempoMinutosInicioExecucao  \n",
       "1077                       164.0  \n",
       "1078                       136.0  \n",
       "1079                       267.0  \n",
       "1080                       246.0  \n",
       "1081                       126.0  "
      ]
     },
     "execution_count": 3,
     "metadata": {},
     "output_type": "execute_result"
    }
   ],
   "source": [
    "# O Prophet necessita que a columa data tenha o nome 'ds' e o conteúdo/valor a ser predito tenha o nome 'y'\n",
    "_df.rename(columns={'DiaInicio': 'ds'}, inplace = True)\n",
    "_df.rename(columns={'TempoMinutos': 'y'}, inplace = True)\n",
    "_df.head()"
   ]
  },
  {
   "cell_type": "code",
   "execution_count": 4,
   "metadata": {},
   "outputs": [
    {
     "name": "stderr",
     "output_type": "stream",
     "text": [
      "C:\\Users\\Michael\\anaconda3\\lib\\site-packages\\ipykernel_launcher.py:3: UserWarning: Pandas doesn't allow columns to be created via a new attribute name - see https://pandas.pydata.org/pandas-docs/stable/indexing.html#attribute-access\n",
      "  This is separate from the ipykernel package so we can avoid doing imports until\n"
     ]
    }
   ],
   "source": [
    "# Cria Dataframe somente com as colunas que interessam\n",
    "df = pd.DataFrame(_df, columns = ['ds', 'y'])\n",
    "df.DiaInicio = pd.to_datetime(_df.ds)\n",
    "df.set_index('ds', inplace=True)"
   ]
  },
  {
   "cell_type": "code",
   "execution_count": 5,
   "metadata": {},
   "outputs": [
    {
     "data": {
      "text/html": [
       "<div>\n",
       "<style scoped>\n",
       "    .dataframe tbody tr th:only-of-type {\n",
       "        vertical-align: middle;\n",
       "    }\n",
       "\n",
       "    .dataframe tbody tr th {\n",
       "        vertical-align: top;\n",
       "    }\n",
       "\n",
       "    .dataframe thead th {\n",
       "        text-align: right;\n",
       "    }\n",
       "</style>\n",
       "<table border=\"1\" class=\"dataframe\">\n",
       "  <thead>\n",
       "    <tr style=\"text-align: right;\">\n",
       "      <th></th>\n",
       "      <th>y</th>\n",
       "    </tr>\n",
       "    <tr>\n",
       "      <th>ds</th>\n",
       "      <th></th>\n",
       "    </tr>\n",
       "  </thead>\n",
       "  <tbody>\n",
       "    <tr>\n",
       "      <th>2021-01-05</th>\n",
       "      <td>226</td>\n",
       "    </tr>\n",
       "    <tr>\n",
       "      <th>2021-01-06</th>\n",
       "      <td>276</td>\n",
       "    </tr>\n",
       "    <tr>\n",
       "      <th>2021-01-07</th>\n",
       "      <td>404</td>\n",
       "    </tr>\n",
       "    <tr>\n",
       "      <th>2021-01-08</th>\n",
       "      <td>398</td>\n",
       "    </tr>\n",
       "    <tr>\n",
       "      <th>2021-01-09</th>\n",
       "      <td>249</td>\n",
       "    </tr>\n",
       "  </tbody>\n",
       "</table>\n",
       "</div>"
      ],
      "text/plain": [
       "              y\n",
       "ds             \n",
       "2021-01-05  226\n",
       "2021-01-06  276\n",
       "2021-01-07  404\n",
       "2021-01-08  398\n",
       "2021-01-09  249"
      ]
     },
     "execution_count": 5,
     "metadata": {},
     "output_type": "execute_result"
    }
   ],
   "source": [
    "df.head(5)\n"
   ]
  },
  {
   "cell_type": "code",
   "execution_count": 10,
   "metadata": {},
   "outputs": [],
   "source": [
    "train_set = df.iloc[:-120]\n",
    "test_set = df.iloc[-120:]"
   ]
  },
  {
   "cell_type": "code",
   "execution_count": 13,
   "metadata": {},
   "outputs": [
    {
     "data": {
      "text/plain": [
       "(              y\n",
       " ds             \n",
       " 2021-01-05  226\n",
       " 2021-01-06  276\n",
       " 2021-01-07  404\n",
       " 2021-01-08  398\n",
       " 2021-01-09  249\n",
       " ...         ...\n",
       " 2021-08-27  477\n",
       " 2021-08-28  380\n",
       " 2021-08-29  386\n",
       " 2021-08-30  316\n",
       " 2021-08-31  294\n",
       " \n",
       " [239 rows x 1 columns],\n",
       "               y\n",
       " ds             \n",
       " 2021-09-01  380\n",
       " 2021-09-02  402\n",
       " 2021-09-03  356\n",
       " 2021-09-04  430\n",
       " 2021-09-05  431\n",
       " ...         ...\n",
       " 2021-12-25  442\n",
       " 2021-12-26  352\n",
       " 2021-12-27  408\n",
       " 2021-12-28  482\n",
       " 2021-12-29  401\n",
       " \n",
       " [120 rows x 1 columns])"
      ]
     },
     "execution_count": 13,
     "metadata": {},
     "output_type": "execute_result"
    }
   ],
   "source": [
    "train_set, test_set"
   ]
  },
  {
   "cell_type": "code",
   "execution_count": null,
   "metadata": {},
   "outputs": [],
   "source": [
    "model_mensal = Prophet()"
   ]
  },
  {
   "cell_type": "code",
   "execution_count": null,
   "metadata": {},
   "outputs": [],
   "source": [
    "model_mensal.fit(train_set)"
   ]
  },
  {
   "cell_type": "code",
   "execution_count": null,
   "metadata": {},
   "outputs": [],
   "source": [
    "y_pred = model_mensal.predict(test_set)"
   ]
  },
  {
   "cell_type": "code",
   "execution_count": null,
   "metadata": {},
   "outputs": [],
   "source": [
    "model_mensal.plot(y_pred)"
   ]
  },
  {
   "cell_type": "code",
   "execution_count": null,
   "metadata": {},
   "outputs": [],
   "source": [
    "print('RMSE: {}'.format(metrics.mean_squared_error(test_set['y'].values, y__pred['yhat'].values, squared=False)))"
   ]
  }
 ],
 "metadata": {
  "kernelspec": {
   "display_name": "Python 3",
   "language": "python",
   "name": "python3"
  },
  "language_info": {
   "codemirror_mode": {
    "name": "ipython",
    "version": 3
   },
   "file_extension": ".py",
   "mimetype": "text/x-python",
   "name": "python",
   "nbconvert_exporter": "python",
   "pygments_lexer": "ipython3",
   "version": "3.7.6"
  }
 },
 "nbformat": 4,
 "nbformat_minor": 4
}

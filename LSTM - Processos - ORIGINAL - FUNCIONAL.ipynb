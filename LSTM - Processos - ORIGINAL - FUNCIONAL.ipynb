{
 "cells": [
  {
   "cell_type": "code",
   "execution_count": 7,
   "metadata": {
    "id": "nRSlxT4q5EHJ"
   },
   "outputs": [],
   "source": [
    "import pandas as pd\n",
    "import numpy as np\n",
    "import matplotlib.pyplot as plt\n",
    "from sklearn.metrics import mean_squared_error as mse"
   ]
  },
  {
   "cell_type": "code",
   "execution_count": 8,
   "metadata": {
    "id": "2fRF6mEW5QbK"
   },
   "outputs": [
    {
     "data": {
      "text/html": [
       "<div>\n",
       "<style scoped>\n",
       "    .dataframe tbody tr th:only-of-type {\n",
       "        vertical-align: middle;\n",
       "    }\n",
       "\n",
       "    .dataframe tbody tr th {\n",
       "        vertical-align: top;\n",
       "    }\n",
       "\n",
       "    .dataframe thead th {\n",
       "        text-align: right;\n",
       "    }\n",
       "</style>\n",
       "<table border=\"1\" class=\"dataframe\">\n",
       "  <thead>\n",
       "    <tr style=\"text-align: right;\">\n",
       "      <th></th>\n",
       "      <th>DiaInicio</th>\n",
       "      <th>DtHoraInicio</th>\n",
       "      <th>DtHoraFim</th>\n",
       "      <th>Processo</th>\n",
       "      <th>TempoMinutos</th>\n",
       "      <th>TempoMinutosInicioExecucao</th>\n",
       "    </tr>\n",
       "  </thead>\n",
       "  <tbody>\n",
       "    <tr>\n",
       "      <th>1077</th>\n",
       "      <td>2021-01-05</td>\n",
       "      <td>2021-01-05 02:44:00</td>\n",
       "      <td>2021-01-05 06:30:00</td>\n",
       "      <td>Rotina_04</td>\n",
       "      <td>226</td>\n",
       "      <td>164.0</td>\n",
       "    </tr>\n",
       "    <tr>\n",
       "      <th>1078</th>\n",
       "      <td>2021-01-06</td>\n",
       "      <td>2021-01-06 02:16:00</td>\n",
       "      <td>2021-01-06 06:52:00</td>\n",
       "      <td>Rotina_04</td>\n",
       "      <td>276</td>\n",
       "      <td>136.0</td>\n",
       "    </tr>\n",
       "    <tr>\n",
       "      <th>1079</th>\n",
       "      <td>2021-01-07</td>\n",
       "      <td>2021-01-07 04:27:00</td>\n",
       "      <td>2021-01-07 11:11:00</td>\n",
       "      <td>Rotina_04</td>\n",
       "      <td>404</td>\n",
       "      <td>267.0</td>\n",
       "    </tr>\n",
       "    <tr>\n",
       "      <th>1080</th>\n",
       "      <td>2021-01-08</td>\n",
       "      <td>2021-01-08 04:06:00</td>\n",
       "      <td>2021-01-08 10:44:00</td>\n",
       "      <td>Rotina_04</td>\n",
       "      <td>398</td>\n",
       "      <td>246.0</td>\n",
       "    </tr>\n",
       "    <tr>\n",
       "      <th>1081</th>\n",
       "      <td>2021-01-09</td>\n",
       "      <td>2021-01-09 02:06:00</td>\n",
       "      <td>2021-01-09 06:15:00</td>\n",
       "      <td>Rotina_04</td>\n",
       "      <td>249</td>\n",
       "      <td>126.0</td>\n",
       "    </tr>\n",
       "  </tbody>\n",
       "</table>\n",
       "</div>"
      ],
      "text/plain": [
       "      DiaInicio        DtHoraInicio           DtHoraFim   Processo  \\\n",
       "1077 2021-01-05 2021-01-05 02:44:00 2021-01-05 06:30:00  Rotina_04   \n",
       "1078 2021-01-06 2021-01-06 02:16:00 2021-01-06 06:52:00  Rotina_04   \n",
       "1079 2021-01-07 2021-01-07 04:27:00 2021-01-07 11:11:00  Rotina_04   \n",
       "1080 2021-01-08 2021-01-08 04:06:00 2021-01-08 10:44:00  Rotina_04   \n",
       "1081 2021-01-09 2021-01-09 02:06:00 2021-01-09 06:15:00  Rotina_04   \n",
       "\n",
       "      TempoMinutos  TempoMinutosInicioExecucao  \n",
       "1077           226                       164.0  \n",
       "1078           276                       136.0  \n",
       "1079           404                       267.0  \n",
       "1080           398                       246.0  \n",
       "1081           249                       126.0  "
      ]
     },
     "execution_count": 8,
     "metadata": {},
     "output_type": "execute_result"
    }
   ],
   "source": [
    "# Efetua carga da base\n",
    "_df = pd.read_excel('DataFrame_Processos_Percentual_Base_Completa.xlsx')\n",
    "_df = _df.loc[_df['Processo']=='Rotina_04']\n",
    "_df.head()"
   ]
  },
  {
   "cell_type": "code",
   "execution_count": 3,
   "metadata": {},
   "outputs": [],
   "source": [
    "# Cria Dataframe somente com as colunas que interessam\n",
    "df = pd.DataFrame(_df, columns = ['DiaInicio', 'TempoMinutos'])\n",
    "df.DiaInicio = pd.to_datetime(df.DiaInicio)\n",
    "df.set_index('DiaInicio', inplace=True)"
   ]
  },
  {
   "cell_type": "code",
   "execution_count": 4,
   "metadata": {},
   "outputs": [
    {
     "data": {
      "text/html": [
       "<div>\n",
       "<style scoped>\n",
       "    .dataframe tbody tr th:only-of-type {\n",
       "        vertical-align: middle;\n",
       "    }\n",
       "\n",
       "    .dataframe tbody tr th {\n",
       "        vertical-align: top;\n",
       "    }\n",
       "\n",
       "    .dataframe thead th {\n",
       "        text-align: right;\n",
       "    }\n",
       "</style>\n",
       "<table border=\"1\" class=\"dataframe\">\n",
       "  <thead>\n",
       "    <tr style=\"text-align: right;\">\n",
       "      <th></th>\n",
       "      <th>TempoMinutos</th>\n",
       "    </tr>\n",
       "    <tr>\n",
       "      <th>DiaInicio</th>\n",
       "      <th></th>\n",
       "    </tr>\n",
       "  </thead>\n",
       "  <tbody>\n",
       "    <tr>\n",
       "      <th>2021-01-05</th>\n",
       "      <td>226</td>\n",
       "    </tr>\n",
       "    <tr>\n",
       "      <th>2021-01-06</th>\n",
       "      <td>276</td>\n",
       "    </tr>\n",
       "    <tr>\n",
       "      <th>2021-01-07</th>\n",
       "      <td>404</td>\n",
       "    </tr>\n",
       "    <tr>\n",
       "      <th>2021-01-08</th>\n",
       "      <td>398</td>\n",
       "    </tr>\n",
       "    <tr>\n",
       "      <th>2021-01-09</th>\n",
       "      <td>249</td>\n",
       "    </tr>\n",
       "  </tbody>\n",
       "</table>\n",
       "</div>"
      ],
      "text/plain": [
       "            TempoMinutos\n",
       "DiaInicio               \n",
       "2021-01-05           226\n",
       "2021-01-06           276\n",
       "2021-01-07           404\n",
       "2021-01-08           398\n",
       "2021-01-09           249"
      ]
     },
     "execution_count": 4,
     "metadata": {},
     "output_type": "execute_result"
    }
   ],
   "source": [
    "df.head()"
   ]
  },
  {
   "cell_type": "code",
   "execution_count": null,
   "metadata": {},
   "outputs": [],
   "source": []
  },
  {
   "cell_type": "code",
   "execution_count": 5,
   "metadata": {},
   "outputs": [
    {
     "data": {
      "text/plain": [
       "<matplotlib.axes._subplots.AxesSubplot at 0x1ff3fd67548>"
      ]
     },
     "execution_count": 5,
     "metadata": {},
     "output_type": "execute_result"
    },
    {
     "data": {
      "image/png": "[encoded data removed]",
      "text/plain": [
       "<Figure size 864x432 with 1 Axes>"
      ]
     },
     "metadata": {
      "needs_background": "light"
     },
     "output_type": "display_data"
    }
   ],
   "source": [
    "df.plot(figsize=(12,6))"
   ]
  },
  {
   "cell_type": "code",
   "execution_count": 6,
   "metadata": {
    "id": "jcew1g4f6L_X"
   },
   "outputs": [],
   "source": [
    "from statsmodels.tsa.seasonal import seasonal_decompose"
   ]
  },
  {
   "cell_type": "code",
   "execution_count": 7,
   "metadata": {
    "colab": {
     "base_uri": "https://localhost:8080/",
     "height": 297
    },
    "id": "zfTZaeEH6Wpn",
    "outputId": "3f6120dd-ff89-4c21-bce1-32dc4d01b02c"
   },
   "outputs": [
    {
     "data": {
      "image/png": "[encoded data removed]",
      "text/plain": [
       "<Figure size 432x288 with 4 Axes>"
      ]
     },
     "metadata": {
      "needs_background": "light"
     },
     "output_type": "display_data"
    }
   ],
   "source": [
    "results = seasonal_decompose(df['TempoMinutos'])\n",
    "results.plot();"
   ]
  },
  {
   "cell_type": "code",
   "execution_count": 8,
   "metadata": {
    "colab": {
     "base_uri": "https://localhost:8080/"
    },
    "id": "IzkqCHh_6lfn",
    "outputId": "79c7a98c-acaf-4ad7-a807-70898e3b83e1"
   },
   "outputs": [
    {
     "data": {
      "text/plain": [
       "359"
      ]
     },
     "execution_count": 8,
     "metadata": {},
     "output_type": "execute_result"
    }
   ],
   "source": [
    "len(df)"
   ]
  },
  {
   "cell_type": "code",
   "execution_count": 9,
   "metadata": {
    "id": "1NoWcZEK6rPb"
   },
   "outputs": [],
   "source": [
    "# 359-12 = 347\n",
    "train = df.iloc[:347]\n",
    "test = df.iloc[347:]"
   ]
  },
  {
   "cell_type": "code",
   "execution_count": 10,
   "metadata": {
    "id": "dtAgIrE66u6x"
   },
   "outputs": [],
   "source": [
    "from sklearn.preprocessing import MinMaxScaler\n",
    "scaler = MinMaxScaler()"
   ]
  },
  {
   "cell_type": "code",
   "execution_count": 11,
   "metadata": {
    "colab": {
     "base_uri": "https://localhost:8080/"
    },
    "id": "UDQODrt4D5NK",
    "outputId": "add8aaaf-9916-4484-af9c-3f5967dad1cd"
   },
   "outputs": [
    {
     "data": {
      "text/plain": [
       "(            TempoMinutos\n",
       " DiaInicio               \n",
       " 2021-01-05           226\n",
       " 2021-01-06           276\n",
       " 2021-01-07           404\n",
       " 2021-01-08           398\n",
       " 2021-01-09           249,\n",
       "             TempoMinutos\n",
       " DiaInicio               \n",
       " 2021-12-25           442\n",
       " 2021-12-26           352\n",
       " 2021-12-27           408\n",
       " 2021-12-28           482\n",
       " 2021-12-29           401)"
      ]
     },
     "execution_count": 11,
     "metadata": {},
     "output_type": "execute_result"
    }
   ],
   "source": [
    "df.head(),df.tail()"
   ]
  },
  {
   "cell_type": "code",
   "execution_count": 12,
   "metadata": {
    "id": "ijgmVYgC6zBz"
   },
   "outputs": [],
   "source": [
    "scaler.fit(train)\n",
    "scaled_train = scaler.transform(train)\n",
    "scaled_test = scaler.transform(test)"
   ]
  },
  {
   "cell_type": "code",
   "execution_count": 13,
   "metadata": {
    "colab": {
     "base_uri": "https://localhost:8080/"
    },
    "id": "BrdKbJ3g6-Et",
    "outputId": "ec956dda-aab6-433c-d846-523769fa65e7"
   },
   "outputs": [
    {
     "data": {
      "text/plain": [
       "array([[0.19678715],\n",
       "       [0.29718876],\n",
       "       [0.55421687],\n",
       "       [0.54216867],\n",
       "       [0.24297189],\n",
       "       [0.38554217],\n",
       "       [0.40562249],\n",
       "       [0.68473896],\n",
       "       [0.25301205],\n",
       "       [0.47590361]])"
      ]
     },
     "execution_count": 13,
     "metadata": {},
     "output_type": "execute_result"
    }
   ],
   "source": [
    "scaled_train[:10]"
   ]
  },
  {
   "cell_type": "code",
   "execution_count": 14,
   "metadata": {
    "id": "0xryZ7rR62y5"
   },
   "outputs": [],
   "source": [
    "from keras.preprocessing.sequence import TimeseriesGenerator"
   ]
  },
  {
   "cell_type": "code",
   "execution_count": 15,
   "metadata": {
    "id": "CqyTKCVt69Z9"
   },
   "outputs": [],
   "source": [
    "# define generator\n",
    "n_tam_agrupamento = 5 # tamanho que será feito o agrupamento\n",
    "n_features = 1\n",
    "generator = TimeseriesGenerator(scaled_train, scaled_train, length=n_tam_agrupamento, batch_size=1)"
   ]
  },
  {
   "cell_type": "code",
   "execution_count": 16,
   "metadata": {
    "colab": {
     "base_uri": "https://localhost:8080/"
    },
    "id": "ip6y5Ene7OM7",
    "outputId": "f8405e12-f285-4394-b2a4-d84b6e6dfec4"
   },
   "outputs": [
    {
     "name": "stdout",
     "output_type": "stream",
     "text": [
      "Given the Array: \n",
      "[0.19678715 0.29718876 0.55421687 0.54216867 0.24297189]\n",
      "Predict this y: \n",
      " [[0.38554217]]\n"
     ]
    }
   ],
   "source": [
    "X,y = generator[0]\n",
    "print(f'Given the Array: \\n{X.flatten()}')\n",
    "print(f'Predict this y: \\n {y}')"
   ]
  },
  {
   "cell_type": "code",
   "execution_count": 17,
   "metadata": {
    "colab": {
     "base_uri": "https://localhost:8080/"
    },
    "id": "bQyGmvsi8HyR",
    "outputId": "2124feb3-263f-46ce-cb56-7b564bc3298c"
   },
   "outputs": [
    {
     "data": {
      "text/plain": [
       "(1, 5, 1)"
      ]
     },
     "execution_count": 17,
     "metadata": {},
     "output_type": "execute_result"
    }
   ],
   "source": [
    "X.shape"
   ]
  },
  {
   "cell_type": "code",
   "execution_count": 18,
   "metadata": {
    "id": "jm-T4H4I7UaV"
   },
   "outputs": [],
   "source": [
    "# n_input - qtdade de períodos a serem previstos\n",
    "n_input = 12\n",
    "generator = TimeseriesGenerator(scaled_train, scaled_train, length=n_input, batch_size=1)"
   ]
  },
  {
   "cell_type": "code",
   "execution_count": 19,
   "metadata": {
    "id": "bzIs_l_k7Zqg"
   },
   "outputs": [],
   "source": [
    "from keras.models import Sequential\n",
    "from keras.layers import Dense\n",
    "from keras.layers import LSTM"
   ]
  },
  {
   "cell_type": "code",
   "execution_count": 20,
   "metadata": {},
   "outputs": [],
   "source": [
    "from tensorflow.keras.models import Sequential\n",
    "from tensorflow.keras.layers import *\n",
    "from tensorflow.keras.callbacks import ModelCheckpoint\n",
    "from tensorflow.keras.losses import MeanSquaredError\n",
    "from tensorflow.keras.metrics import RootMeanSquaredError\n",
    "from tensorflow.keras.optimizers import Adam"
   ]
  },
  {
   "cell_type": "code",
   "execution_count": 21,
   "metadata": {
    "id": "eJa-wFQf7jw6"
   },
   "outputs": [
    {
     "data": {
      "text/plain": [
       "\"\\nmodel = Sequential()\\nmodel.add(LSTM(100, activation='relu', input_shape=(n_input, n_features)))\\nmodel.add(Dense(8, 'relu'))\\nmodel.add(Dense(1, 'linear'))\\nmodel.compile(optimizer='adam', loss='mse')\\n\""
      ]
     },
     "execution_count": 21,
     "metadata": {},
     "output_type": "execute_result"
    }
   ],
   "source": [
    "# define model\n",
    "model = Sequential()\n",
    "model.add(LSTM(100, activation='relu', input_shape=(n_input, n_features)))\n",
    "model.add(Dense(50))\n",
    "model.add(Dense(1))\n",
    "#model.compile(optimizer='adam', loss='mse')\n",
    "model.compile(loss=MeanSquaredError(), optimizer=Adam(learning_rate=0.00001), metrics=[RootMeanSquaredError()])\n",
    "\n",
    "'''\n",
    "model = Sequential()\n",
    "model.add(LSTM(100, activation='relu', input_shape=(n_input, n_features)))\n",
    "model.add(Dense(8, 'relu'))\n",
    "model.add(Dense(1, 'linear'))\n",
    "model.compile(optimizer='adam', loss='mse')\n",
    "'''\n",
    "\n"
   ]
  },
  {
   "cell_type": "code",
   "execution_count": 22,
   "metadata": {
    "colab": {
     "base_uri": "https://localhost:8080/"
    },
    "id": "7i4ucUNv7lbk",
    "outputId": "7f66fb4d-f3af-4d9c-ae3a-9eb97a722ea6"
   },
   "outputs": [
    {
     "name": "stdout",
     "output_type": "stream",
     "text": [
      "Model: \"sequential\"\n",
      "_________________________________________________________________\n",
      " Layer (type)                Output Shape              Param #   \n",
      "=================================================================\n",
      " lstm (LSTM)                 (None, 100)               40800     \n",
      "                                                                 \n",
      " dense (Dense)               (None, 50)                5050      \n",
      "                                                                 \n",
      " dense_1 (Dense)             (None, 1)                 51        \n",
      "                                                                 \n",
      "=================================================================\n",
      "Total params: 45,901\n",
      "Trainable params: 45,901\n",
      "Non-trainable params: 0\n",
      "_________________________________________________________________\n"
     ]
    }
   ],
   "source": [
    "model.summary()"
   ]
  },
  {
   "cell_type": "code",
   "execution_count": 23,
   "metadata": {
    "colab": {
     "base_uri": "https://localhost:8080/"
    },
    "id": "p8yqUZaz7nwp",
    "outputId": "94c9f117-53be-438c-ba31-d7c7fa546f42"
   },
   "outputs": [
    {
     "name": "stdout",
     "output_type": "stream",
     "text": [
      "Epoch 1/20\n",
      "335/335 [==============================] - 2s 3ms/step - loss: 0.2566 - root_mean_squared_error: 0.5065\n",
      "Epoch 2/20\n",
      "335/335 [==============================] - 1s 3ms/step - loss: 0.1628 - root_mean_squared_error: 0.4035\n",
      "Epoch 3/20\n",
      "335/335 [==============================] - 1s 3ms/step - loss: 0.0852 - root_mean_squared_error: 0.2919\n",
      "Epoch 4/20\n",
      "335/335 [==============================] - 1s 3ms/step - loss: 0.0343 - root_mean_squared_error: 0.1853\n",
      "Epoch 5/20\n",
      "335/335 [==============================] - 1s 3ms/step - loss: 0.0208 - root_mean_squared_error: 0.1442\n",
      "Epoch 6/20\n",
      "335/335 [==============================] - 1s 3ms/step - loss: 0.0192 - root_mean_squared_error: 0.1385\n",
      "Epoch 7/20\n",
      "335/335 [==============================] - 1s 3ms/step - loss: 0.0188 - root_mean_squared_error: 0.1371\n",
      "Epoch 8/20\n",
      "335/335 [==============================] - 1s 3ms/step - loss: 0.0185 - root_mean_squared_error: 0.1360\n",
      "Epoch 9/20\n",
      "335/335 [==============================] - 1s 3ms/step - loss: 0.0181 - root_mean_squared_error: 0.1346\n",
      "Epoch 10/20\n",
      "335/335 [==============================] - 1s 3ms/step - loss: 0.0178 - root_mean_squared_error: 0.1335\n",
      "Epoch 11/20\n",
      "335/335 [==============================] - 1s 3ms/step - loss: 0.0175 - root_mean_squared_error: 0.1324\n",
      "Epoch 12/20\n",
      "335/335 [==============================] - 1s 3ms/step - loss: 0.0172 - root_mean_squared_error: 0.1311\n",
      "Epoch 13/20\n",
      "335/335 [==============================] - 1s 4ms/step - loss: 0.0169 - root_mean_squared_error: 0.1300\n",
      "Epoch 14/20\n",
      "335/335 [==============================] - 1s 4ms/step - loss: 0.0166 - root_mean_squared_error: 0.1288\n",
      "Epoch 15/20\n",
      "335/335 [==============================] - 1s 4ms/step - loss: 0.0163 - root_mean_squared_error: 0.1277\n",
      "Epoch 16/20\n",
      "335/335 [==============================] - 1s 3ms/step - loss: 0.0161 - root_mean_squared_error: 0.1270\n",
      "Epoch 17/20\n",
      "335/335 [==============================] - 1s 3ms/step - loss: 0.0159 - root_mean_squared_error: 0.1260\n",
      "Epoch 18/20\n",
      "335/335 [==============================] - 1s 3ms/step - loss: 0.0157 - root_mean_squared_error: 0.1253\n",
      "Epoch 19/20\n",
      "335/335 [==============================] - 1s 3ms/step - loss: 0.0156 - root_mean_squared_error: 0.1249\n",
      "Epoch 20/20\n",
      "335/335 [==============================] - 1s 3ms/step - loss: 0.0155 - root_mean_squared_error: 0.1244\n"
     ]
    },
    {
     "data": {
      "text/plain": [
       "<keras.callbacks.History at 0x1ff4abf1f48>"
      ]
     },
     "execution_count": 23,
     "metadata": {},
     "output_type": "execute_result"
    }
   ],
   "source": [
    "# fit model - a partir de 20 épocas ja não tem mais ganho\n",
    "model.fit(generator,epochs=20)"
   ]
  },
  {
   "cell_type": "code",
   "execution_count": 24,
   "metadata": {
    "colab": {
     "base_uri": "https://localhost:8080/",
     "height": 282
    },
    "id": "OjDsOKR67rs8",
    "outputId": "46a3d438-6cea-4a47-f4bf-b60f2246561d"
   },
   "outputs": [
    {
     "data": {
      "text/plain": [
       "[<matplotlib.lines.Line2D at 0x1ff4d36f288>]"
      ]
     },
     "execution_count": 24,
     "metadata": {},
     "output_type": "execute_result"
    },
    {
     "data": {
      "image/png": "[encoded data removed]",
      "text/plain": [
       "<Figure size 432x288 with 1 Axes>"
      ]
     },
     "metadata": {
      "needs_background": "light"
     },
     "output_type": "display_data"
    }
   ],
   "source": [
    "loss_per_epoch = model.history.history['loss']\n",
    "plt.plot(range(len(loss_per_epoch)),loss_per_epoch)"
   ]
  },
  {
   "cell_type": "code",
   "execution_count": 25,
   "metadata": {
    "id": "h6h-fell70_S"
   },
   "outputs": [],
   "source": [
    "last_train_batch = scaled_train[-n_input:]"
   ]
  },
  {
   "cell_type": "code",
   "execution_count": 26,
   "metadata": {
    "id": "cwwv8O-p79bN"
   },
   "outputs": [],
   "source": [
    "last_train_batch = last_train_batch.reshape((1, n_input, n_features))"
   ]
  },
  {
   "cell_type": "code",
   "execution_count": 27,
   "metadata": {
    "colab": {
     "base_uri": "https://localhost:8080/"
    },
    "id": "v-4WD4t78MpJ",
    "outputId": "6f5ab088-0933-41e7-cf6a-239dc4236d6d"
   },
   "outputs": [
    {
     "name": "stdout",
     "output_type": "stream",
     "text": [
      "1/1 [==============================] - 0s 160ms/step\n"
     ]
    },
    {
     "data": {
      "text/plain": [
       "array([[0.6591464]], dtype=float32)"
      ]
     },
     "execution_count": 27,
     "metadata": {},
     "output_type": "execute_result"
    }
   ],
   "source": [
    "model.predict(last_train_batch)"
   ]
  },
  {
   "cell_type": "code",
   "execution_count": 28,
   "metadata": {
    "colab": {
     "base_uri": "https://localhost:8080/"
    },
    "id": "ZbojFADE8StA",
    "outputId": "e708a2e2-ccf1-48e7-cace-a3b7a6202de1"
   },
   "outputs": [
    {
     "data": {
      "text/plain": [
       "array([0.66465863])"
      ]
     },
     "execution_count": 28,
     "metadata": {},
     "output_type": "execute_result"
    }
   ],
   "source": [
    "scaled_test[0]"
   ]
  },
  {
   "cell_type": "code",
   "execution_count": 29,
   "metadata": {
    "id": "_MP-5Wez8jbY"
   },
   "outputs": [
    {
     "name": "stdout",
     "output_type": "stream",
     "text": [
      "1/1 [==============================] - 0s 24ms/step\n",
      "1/1 [==============================] - 0s 17ms/step\n",
      "1/1 [==============================] - 0s 17ms/step\n",
      "1/1 [==============================] - 0s 16ms/step\n",
      "1/1 [==============================] - 0s 17ms/step\n",
      "1/1 [==============================] - 0s 20ms/step\n",
      "1/1 [==============================] - 0s 15ms/step\n",
      "1/1 [==============================] - 0s 18ms/step\n",
      "1/1 [==============================] - 0s 14ms/step\n",
      "1/1 [==============================] - 0s 12ms/step\n",
      "1/1 [==============================] - 0s 24ms/step\n",
      "1/1 [==============================] - 0s 20ms/step\n"
     ]
    }
   ],
   "source": [
    "test_predictions = []\n",
    "\n",
    "first_eval_batch = scaled_train[-n_input:]\n",
    "current_batch = first_eval_batch.reshape((1, n_input, n_features))\n",
    "\n",
    "for i in range(len(test)):\n",
    "    \n",
    "    # get the prediction value for the first batch\n",
    "    current_pred = model.predict(current_batch)[0]\n",
    "    \n",
    "    # append the prediction into the array\n",
    "    test_predictions.append(current_pred) \n",
    "    \n",
    "    # use the prediction to update the batch and remove the first value\n",
    "    current_batch = np.append(current_batch[:,1:,:],[[current_pred]],axis=1)"
   ]
  },
  {
   "cell_type": "code",
   "execution_count": 30,
   "metadata": {
    "colab": {
     "base_uri": "https://localhost:8080/"
    },
    "id": "_mhvFuEy8sB7",
    "outputId": "e65693ce-1c66-46b1-91e2-069e239ca984"
   },
   "outputs": [
    {
     "data": {
      "text/plain": [
       "[array([0.6591464], dtype=float32),\n",
       " array([0.6506051], dtype=float32),\n",
       " array([0.65012825], dtype=float32),\n",
       " array([0.6418885], dtype=float32),\n",
       " array([0.63692534], dtype=float32),\n",
       " array([0.628489], dtype=float32),\n",
       " array([0.6269392], dtype=float32),\n",
       " array([0.62358254], dtype=float32),\n",
       " array([0.62280506], dtype=float32),\n",
       " array([0.6240344], dtype=float32),\n",
       " array([0.61013705], dtype=float32),\n",
       " array([0.6120477], dtype=float32)]"
      ]
     },
     "execution_count": 30,
     "metadata": {},
     "output_type": "execute_result"
    }
   ],
   "source": [
    "test_predictions"
   ]
  },
  {
   "cell_type": "code",
   "execution_count": 31,
   "metadata": {
    "colab": {
     "base_uri": "https://localhost:8080/",
     "height": 228
    },
    "id": "YYSqV10E9hlO",
    "outputId": "fe8ed427-3d97-429e-9349-115ba1168bc0"
   },
   "outputs": [
    {
     "data": {
      "text/html": [
       "<div>\n",
       "<style scoped>\n",
       "    .dataframe tbody tr th:only-of-type {\n",
       "        vertical-align: middle;\n",
       "    }\n",
       "\n",
       "    .dataframe tbody tr th {\n",
       "        vertical-align: top;\n",
       "    }\n",
       "\n",
       "    .dataframe thead th {\n",
       "        text-align: right;\n",
       "    }\n",
       "</style>\n",
       "<table border=\"1\" class=\"dataframe\">\n",
       "  <thead>\n",
       "    <tr style=\"text-align: right;\">\n",
       "      <th></th>\n",
       "      <th>TempoMinutos</th>\n",
       "    </tr>\n",
       "    <tr>\n",
       "      <th>DiaInicio</th>\n",
       "      <th></th>\n",
       "    </tr>\n",
       "  </thead>\n",
       "  <tbody>\n",
       "    <tr>\n",
       "      <th>2021-12-18</th>\n",
       "      <td>459</td>\n",
       "    </tr>\n",
       "    <tr>\n",
       "      <th>2021-12-19</th>\n",
       "      <td>441</td>\n",
       "    </tr>\n",
       "    <tr>\n",
       "      <th>2021-12-20</th>\n",
       "      <td>514</td>\n",
       "    </tr>\n",
       "    <tr>\n",
       "      <th>2021-12-21</th>\n",
       "      <td>439</td>\n",
       "    </tr>\n",
       "    <tr>\n",
       "      <th>2021-12-22</th>\n",
       "      <td>438</td>\n",
       "    </tr>\n",
       "  </tbody>\n",
       "</table>\n",
       "</div>"
      ],
      "text/plain": [
       "            TempoMinutos\n",
       "DiaInicio               \n",
       "2021-12-18           459\n",
       "2021-12-19           441\n",
       "2021-12-20           514\n",
       "2021-12-21           439\n",
       "2021-12-22           438"
      ]
     },
     "execution_count": 31,
     "metadata": {},
     "output_type": "execute_result"
    }
   ],
   "source": [
    "test.head()"
   ]
  },
  {
   "cell_type": "code",
   "execution_count": 32,
   "metadata": {
    "id": "BHHzjNDK9EJZ"
   },
   "outputs": [],
   "source": [
    "true_predictions = scaler.inverse_transform(test_predictions)"
   ]
  },
  {
   "cell_type": "code",
   "execution_count": 33,
   "metadata": {
    "id": "0dsN45zf9I9u"
   },
   "outputs": [
    {
     "name": "stderr",
     "output_type": "stream",
     "text": [
      "C:\\Users\\Michael\\anaconda3\\lib\\site-packages\\ipykernel_launcher.py:1: SettingWithCopyWarning: \n",
      "A value is trying to be set on a copy of a slice from a DataFrame.\n",
      "Try using .loc[row_indexer,col_indexer] = value instead\n",
      "\n",
      "See the caveats in the documentation: https://pandas.pydata.org/pandas-docs/stable/user_guide/indexing.html#returning-a-view-versus-a-copy\n",
      "  \"\"\"Entry point for launching an IPython kernel.\n"
     ]
    }
   ],
   "source": [
    "test['Predictions'] = true_predictions"
   ]
  },
  {
   "cell_type": "code",
   "execution_count": 34,
   "metadata": {},
   "outputs": [
    {
     "data": {
      "text/html": [
       "<div>\n",
       "<style scoped>\n",
       "    .dataframe tbody tr th:only-of-type {\n",
       "        vertical-align: middle;\n",
       "    }\n",
       "\n",
       "    .dataframe tbody tr th {\n",
       "        vertical-align: top;\n",
       "    }\n",
       "\n",
       "    .dataframe thead th {\n",
       "        text-align: right;\n",
       "    }\n",
       "</style>\n",
       "<table border=\"1\" class=\"dataframe\">\n",
       "  <thead>\n",
       "    <tr style=\"text-align: right;\">\n",
       "      <th></th>\n",
       "      <th>TempoMinutos</th>\n",
       "      <th>Predictions</th>\n",
       "    </tr>\n",
       "    <tr>\n",
       "      <th>DiaInicio</th>\n",
       "      <th></th>\n",
       "      <th></th>\n",
       "    </tr>\n",
       "  </thead>\n",
       "  <tbody>\n",
       "    <tr>\n",
       "      <th>2021-12-18</th>\n",
       "      <td>459</td>\n",
       "      <td>456.254921</td>\n",
       "    </tr>\n",
       "    <tr>\n",
       "      <th>2021-12-19</th>\n",
       "      <td>441</td>\n",
       "      <td>452.001331</td>\n",
       "    </tr>\n",
       "    <tr>\n",
       "      <th>2021-12-20</th>\n",
       "      <td>514</td>\n",
       "      <td>451.763866</td>\n",
       "    </tr>\n",
       "    <tr>\n",
       "      <th>2021-12-21</th>\n",
       "      <td>439</td>\n",
       "      <td>447.660473</td>\n",
       "    </tr>\n",
       "    <tr>\n",
       "      <th>2021-12-22</th>\n",
       "      <td>438</td>\n",
       "      <td>445.188819</td>\n",
       "    </tr>\n",
       "    <tr>\n",
       "      <th>2021-12-23</th>\n",
       "      <td>523</td>\n",
       "      <td>440.987531</td>\n",
       "    </tr>\n",
       "    <tr>\n",
       "      <th>2021-12-24</th>\n",
       "      <td>420</td>\n",
       "      <td>440.215710</td>\n",
       "    </tr>\n",
       "    <tr>\n",
       "      <th>2021-12-25</th>\n",
       "      <td>442</td>\n",
       "      <td>438.544106</td>\n",
       "    </tr>\n",
       "    <tr>\n",
       "      <th>2021-12-26</th>\n",
       "      <td>352</td>\n",
       "      <td>438.156919</td>\n",
       "    </tr>\n",
       "    <tr>\n",
       "      <th>2021-12-27</th>\n",
       "      <td>408</td>\n",
       "      <td>438.769134</td>\n",
       "    </tr>\n",
       "    <tr>\n",
       "      <th>2021-12-28</th>\n",
       "      <td>482</td>\n",
       "      <td>431.848249</td>\n",
       "    </tr>\n",
       "    <tr>\n",
       "      <th>2021-12-29</th>\n",
       "      <td>401</td>\n",
       "      <td>432.799741</td>\n",
       "    </tr>\n",
       "  </tbody>\n",
       "</table>\n",
       "</div>"
      ],
      "text/plain": [
       "            TempoMinutos  Predictions\n",
       "DiaInicio                            \n",
       "2021-12-18           459   456.254921\n",
       "2021-12-19           441   452.001331\n",
       "2021-12-20           514   451.763866\n",
       "2021-12-21           439   447.660473\n",
       "2021-12-22           438   445.188819\n",
       "2021-12-23           523   440.987531\n",
       "2021-12-24           420   440.215710\n",
       "2021-12-25           442   438.544106\n",
       "2021-12-26           352   438.156919\n",
       "2021-12-27           408   438.769134\n",
       "2021-12-28           482   431.848249\n",
       "2021-12-29           401   432.799741"
      ]
     },
     "execution_count": 34,
     "metadata": {},
     "output_type": "execute_result"
    }
   ],
   "source": [
    "test.head(20)"
   ]
  },
  {
   "cell_type": "code",
   "execution_count": 35,
   "metadata": {
    "colab": {
     "base_uri": "https://localhost:8080/",
     "height": 366
    },
    "id": "xJ7sI5xh9Lb0",
    "outputId": "6aeaec0b-9c02-4d87-ca51-987048dae0ba"
   },
   "outputs": [
    {
     "data": {
      "text/plain": [
       "<matplotlib.axes._subplots.AxesSubplot at 0x1ff4d3f96c8>"
      ]
     },
     "execution_count": 35,
     "metadata": {},
     "output_type": "execute_result"
    },
    {
     "data": {
      "image/png": "[encoded data removed]",
      "text/plain": [
       "<Figure size 1008x360 with 1 Axes>"
      ]
     },
     "metadata": {
      "needs_background": "light"
     },
     "output_type": "display_data"
    }
   ],
   "source": [
    "test.plot(figsize=(14,5))"
   ]
  },
  {
   "cell_type": "code",
   "execution_count": 36,
   "metadata": {
    "colab": {
     "base_uri": "https://localhost:8080/"
    },
    "id": "OCsYjzge9OVe",
    "outputId": "4771bf0b-a885-4e3f-d16e-b5b9bd255cc2"
   },
   "outputs": [
    {
     "name": "stdout",
     "output_type": "stream",
     "text": [
      "43.94259824870671\n"
     ]
    }
   ],
   "source": [
    "from sklearn.metrics import mean_squared_error\n",
    "from math import sqrt\n",
    "rmse=sqrt(mean_squared_error(test['TempoMinutos'],test['Predictions']))\n",
    "print(rmse)"
   ]
  }
 ],
 "metadata": {
  "colab": {
   "collapsed_sections": [],
   "name": "RNN_Youtube.ipynb",
   "provenance": []
  },
  "kernelspec": {
   "display_name": "Python 3",
   "language": "python",
   "name": "python3"
  },
  "language_info": {
   "codemirror_mode": {
    "name": "ipython",
    "version": 3
   },
   "file_extension": ".py",
   "mimetype": "text/x-python",
   "name": "python",
   "nbconvert_exporter": "python",
   "pygments_lexer": "ipython3",
   "version": "3.7.6"
  }
 },
 "nbformat": 4,
 "nbformat_minor": 1
}

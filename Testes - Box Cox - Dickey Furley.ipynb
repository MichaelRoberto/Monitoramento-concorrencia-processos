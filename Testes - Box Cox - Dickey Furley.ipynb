{
 "cells": [
  {
   "cell_type": "code",
   "execution_count": 2,
   "metadata": {},
   "outputs": [],
   "source": [
    "import pandas as pd\n",
    "import matplotlib.pyplot as plt\n",
    "import seaborn as sns\n",
    "import numpy as np\n",
    "\n",
    "from scipy.stats import boxcox\n",
    "from scipy.special import inv_boxcox\n",
    "import numpy as np\n",
    "\n",
    "from statsmodels.tsa.stattools import adfuller"
   ]
  },
  {
   "cell_type": "code",
   "execution_count": 3,
   "metadata": {},
   "outputs": [],
   "source": [
    "rotina = 'Rotina_01'\n",
    "coluna = 'TempoMinutos'"
   ]
  },
  {
   "cell_type": "code",
   "execution_count": 74,
   "metadata": {},
   "outputs": [
    {
     "name": "stderr",
     "output_type": "stream",
     "text": [
      "C:\\Users\\Michael\\anaconda3\\lib\\site-packages\\ipykernel_launcher.py:8: UserWarning: Pandas doesn't allow columns to be created via a new attribute name - see https://pandas.pydata.org/pandas-docs/stable/indexing.html#attribute-access\n",
      "  \n"
     ]
    },
    {
     "data": {
      "text/html": [
       "<div>\n",
       "<style scoped>\n",
       "    .dataframe tbody tr th:only-of-type {\n",
       "        vertical-align: middle;\n",
       "    }\n",
       "\n",
       "    .dataframe tbody tr th {\n",
       "        vertical-align: top;\n",
       "    }\n",
       "\n",
       "    .dataframe thead th {\n",
       "        text-align: right;\n",
       "    }\n",
       "</style>\n",
       "<table border=\"1\" class=\"dataframe\">\n",
       "  <thead>\n",
       "    <tr style=\"text-align: right;\">\n",
       "      <th></th>\n",
       "      <th>TempoMinutos</th>\n",
       "    </tr>\n",
       "    <tr>\n",
       "      <th>DiaInicio</th>\n",
       "      <th></th>\n",
       "    </tr>\n",
       "  </thead>\n",
       "  <tbody>\n",
       "    <tr>\n",
       "      <th>2021-01-05</th>\n",
       "      <td>139</td>\n",
       "    </tr>\n",
       "    <tr>\n",
       "      <th>2021-01-06</th>\n",
       "      <td>101</td>\n",
       "    </tr>\n",
       "    <tr>\n",
       "      <th>2021-01-07</th>\n",
       "      <td>114</td>\n",
       "    </tr>\n",
       "    <tr>\n",
       "      <th>2021-01-08</th>\n",
       "      <td>112</td>\n",
       "    </tr>\n",
       "    <tr>\n",
       "      <th>2021-01-09</th>\n",
       "      <td>138</td>\n",
       "    </tr>\n",
       "  </tbody>\n",
       "</table>\n",
       "</div>"
      ],
      "text/plain": [
       "            TempoMinutos\n",
       "DiaInicio               \n",
       "2021-01-05           139\n",
       "2021-01-06           101\n",
       "2021-01-07           114\n",
       "2021-01-08           112\n",
       "2021-01-09           138"
      ]
     },
     "execution_count": 74,
     "metadata": {},
     "output_type": "execute_result"
    }
   ],
   "source": [
    "# Monta DataFrame somente com as informações que interessam para o estudo\n",
    "df = pd.read_excel('DataFrame_Processos_Percentual_Base_CompletaAjusteOutLiers.xlsx')\n",
    "df = df.loc[df['Processo']==rotina]\n",
    "\n",
    "# Cria Dataframe somente com as colunas que interessam\n",
    "df = pd.DataFrame(df, columns = ['DiaInicio', coluna])\n",
    "\n",
    "df.Dtinicio = pd.to_datetime(df.DiaInicio)\n",
    "df.set_index('DiaInicio', inplace=True)\n",
    "\n",
    "df.head()"
   ]
  },
  {
   "cell_type": "code",
   "execution_count": null,
   "metadata": {},
   "outputs": [],
   "source": [
    "*********************************************************************************\n",
    "# Transformação BOX COX\n",
    "*********************************************************************************"
   ]
  },
  {
   "cell_type": "code",
   "execution_count": 75,
   "metadata": {},
   "outputs": [],
   "source": [
    "#perform Box-Cox transformation on original data\n",
    "transformed_data, best_lambda = boxcox(df[coluna]) "
   ]
  },
  {
   "cell_type": "code",
   "execution_count": 88,
   "metadata": {},
   "outputs": [
    {
     "data": {
      "text/plain": [
       "13.319660743048615"
      ]
     },
     "execution_count": 88,
     "metadata": {},
     "output_type": "execute_result"
    }
   ],
   "source": [
    "transformed_data[1]"
   ]
  },
  {
   "cell_type": "code",
   "execution_count": 77,
   "metadata": {},
   "outputs": [
    {
     "data": {
      "text/plain": [
       "0.399567430190976"
      ]
     },
     "execution_count": 77,
     "metadata": {},
     "output_type": "execute_result"
    }
   ],
   "source": [
    "best_lambda"
   ]
  },
  {
   "cell_type": "code",
   "execution_count": 78,
   "metadata": {},
   "outputs": [
    {
     "data": {
      "text/plain": [
       "101.00000000000003"
      ]
     },
     "execution_count": 78,
     "metadata": {},
     "output_type": "execute_result"
    }
   ],
   "source": [
    "inv_boxcox(transformed_data[1], best_lambda)"
   ]
  },
  {
   "cell_type": "code",
   "execution_count": 79,
   "metadata": {},
   "outputs": [
    {
     "data": {
      "text/plain": [
       "101"
      ]
     },
     "execution_count": 79,
     "metadata": {},
     "output_type": "execute_result"
    }
   ],
   "source": [
    "df[coluna][1]"
   ]
  },
  {
   "cell_type": "code",
   "execution_count": 80,
   "metadata": {
    "collapsed": true
   },
   "outputs": [
    {
     "data": {
      "text/plain": [
       "array([139., 101., 114., 112., 138., 120., 120., 171.,  82.,  92.,  79.,\n",
       "        82.,  83.,  83., 116.,  84.,  68.,  79.,  72.,  83.,  83.,  99.,\n",
       "        81.,  78.,  64., 120.,  88.,  88., 120.,  64.,  78.,  75., 147.,\n",
       "        96.,  96., 175.,  91.,  90.,  90.,  87., 106., 106., 106., 106.,\n",
       "       136.,  57.,  95.,  96.,  96., 116.,  78., 100.,  66., 109.,  94.,\n",
       "        94., 150.,  84., 111., 108., 139., 118., 118., 155., 128.,  93.,\n",
       "        62.,  57.,  99.,  99., 121., 155.,  64.,  61.,  68.,  94.,  94.,\n",
       "        94.,  65.,  57., 137., 106.,  91.,  91.,  75.,  83., 107., 111.,\n",
       "        94.,  94.,  94., 172., 129., 244., 163., 173., 176., 176., 183.,\n",
       "       133., 114., 147., 116., 139., 139., 198., 185., 191., 119., 111.,\n",
       "       115., 115., 216., 152., 100., 141., 227., 167., 167., 115., 167.,\n",
       "       133., 158., 143., 143., 143., 130., 157., 135., 130., 144., 139.,\n",
       "       139., 163., 112., 120., 154., 141., 139., 139., 172.,  94., 127.,\n",
       "       116.,  98., 121., 121., 190., 179., 140., 170., 196., 175., 175.,\n",
       "       192., 178., 133., 125.,  99., 145., 145., 140., 147., 104.,  85.,\n",
       "       113., 117., 117., 134., 120.,  92.,  78.,  97., 104., 104., 173.,\n",
       "       102., 169., 170., 122., 147., 147.,  88., 212., 203., 139.,  83.,\n",
       "       145., 145.,  90., 145.,  94., 109., 136., 114., 114., 164., 203.,\n",
       "       155., 107., 144., 154., 154., 154., 119., 207., 148., 191., 166.,\n",
       "       166., 150., 134., 154., 130., 145., 142., 142., 140., 205., 200.,\n",
       "       212., 164., 184., 184., 143., 181., 153., 199., 190., 173., 173.,\n",
       "       129., 177., 224., 176., 165., 174., 174., 170., 233., 153., 147.,\n",
       "       200., 180., 180., 221., 180., 217., 241., 172., 202., 202., 170.,\n",
       "       105., 199., 152., 147., 154., 154., 138., 207., 194.,  90.,  95.,\n",
       "       145., 145., 120.,  90.,  77., 125., 126., 107., 107., 154., 158.,\n",
       "       147., 167., 134., 152., 152., 115., 240., 196., 129., 106., 157.,\n",
       "       157.,  87., 133., 204., 103., 106., 126., 126., 128.,  82., 105.,\n",
       "       102., 164., 116., 116., 195., 155., 112., 111., 205., 153., 155.,\n",
       "        57., 145., 143., 167., 108., 124., 124., 124.,  96., 108., 106.,\n",
       "       129., 112.,  99., 148., 143., 100.,  84., 114., 131., 116., 101.,\n",
       "        71., 106., 167., 102., 166., 167., 119.,  94., 214., 199., 141.,\n",
       "        84.,  97., 153.,  86., 141., 162., 205., 155., 112., 154., 118.,\n",
       "       217., 153., 188., 156., 132., 155., 125.])"
      ]
     },
     "execution_count": 80,
     "metadata": {},
     "output_type": "execute_result"
    }
   ],
   "source": [
    "inv_boxcox(transformed_data, best_lambda)"
   ]
  },
  {
   "cell_type": "code",
   "execution_count": 11,
   "metadata": {
    "collapsed": true
   },
   "outputs": [
    {
     "data": {
      "text/html": [
       "<div>\n",
       "<style scoped>\n",
       "    .dataframe tbody tr th:only-of-type {\n",
       "        vertical-align: middle;\n",
       "    }\n",
       "\n",
       "    .dataframe tbody tr th {\n",
       "        vertical-align: top;\n",
       "    }\n",
       "\n",
       "    .dataframe thead th {\n",
       "        text-align: right;\n",
       "    }\n",
       "</style>\n",
       "<table border=\"1\" class=\"dataframe\">\n",
       "  <thead>\n",
       "    <tr style=\"text-align: right;\">\n",
       "      <th></th>\n",
       "      <th>TempoMinutos</th>\n",
       "    </tr>\n",
       "    <tr>\n",
       "      <th>DiaInicio</th>\n",
       "      <th></th>\n",
       "    </tr>\n",
       "  </thead>\n",
       "  <tbody>\n",
       "    <tr>\n",
       "      <th>2021-01-05</th>\n",
       "      <td>139</td>\n",
       "    </tr>\n",
       "    <tr>\n",
       "      <th>2021-01-06</th>\n",
       "      <td>101</td>\n",
       "    </tr>\n",
       "    <tr>\n",
       "      <th>2021-01-07</th>\n",
       "      <td>114</td>\n",
       "    </tr>\n",
       "    <tr>\n",
       "      <th>2021-01-08</th>\n",
       "      <td>112</td>\n",
       "    </tr>\n",
       "    <tr>\n",
       "      <th>2021-01-09</th>\n",
       "      <td>138</td>\n",
       "    </tr>\n",
       "    <tr>\n",
       "      <th>...</th>\n",
       "      <td>...</td>\n",
       "    </tr>\n",
       "    <tr>\n",
       "      <th>2021-12-25</th>\n",
       "      <td>188</td>\n",
       "    </tr>\n",
       "    <tr>\n",
       "      <th>2021-12-26</th>\n",
       "      <td>156</td>\n",
       "    </tr>\n",
       "    <tr>\n",
       "      <th>2021-12-27</th>\n",
       "      <td>132</td>\n",
       "    </tr>\n",
       "    <tr>\n",
       "      <th>2021-12-28</th>\n",
       "      <td>155</td>\n",
       "    </tr>\n",
       "    <tr>\n",
       "      <th>2021-12-29</th>\n",
       "      <td>125</td>\n",
       "    </tr>\n",
       "  </tbody>\n",
       "</table>\n",
       "<p>359 rows × 1 columns</p>\n",
       "</div>"
      ],
      "text/plain": [
       "            TempoMinutos\n",
       "DiaInicio               \n",
       "2021-01-05           139\n",
       "2021-01-06           101\n",
       "2021-01-07           114\n",
       "2021-01-08           112\n",
       "2021-01-09           138\n",
       "...                  ...\n",
       "2021-12-25           188\n",
       "2021-12-26           156\n",
       "2021-12-27           132\n",
       "2021-12-28           155\n",
       "2021-12-29           125\n",
       "\n",
       "[359 rows x 1 columns]"
      ]
     },
     "execution_count": 11,
     "metadata": {},
     "output_type": "execute_result"
    }
   ],
   "source": [
    "df"
   ]
  },
  {
   "cell_type": "code",
   "execution_count": 81,
   "metadata": {},
   "outputs": [
    {
     "data": {
      "text/plain": [
       "<matplotlib.axes._subplots.AxesSubplot at 0x1bd954eb1c8>"
      ]
     },
     "execution_count": 81,
     "metadata": {},
     "output_type": "execute_result"
    },
    {
     "data": {
      "image/png": "[encoded data removed]",
      "text/plain": [
       "<Figure size 432x288 with 1 Axes>"
      ]
     },
     "metadata": {
      "needs_background": "light"
     },
     "output_type": "display_data"
    }
   ],
   "source": [
    "# plot the distribution of the transformed data values\n",
    "sns.distplot(transformed_data, hist=True, kde=True)"
   ]
  },
  {
   "cell_type": "code",
   "execution_count": 13,
   "metadata": {},
   "outputs": [
    {
     "data": {
      "text/plain": [
       "<matplotlib.axes._subplots.AxesSubplot at 0x1bd92c1c488>"
      ]
     },
     "execution_count": 13,
     "metadata": {},
     "output_type": "execute_result"
    },
    {
     "data": {
      "image/png": "[encoded data removed]",
      "text/plain": [
       "<Figure size 432x288 with 1 Axes>"
      ]
     },
     "metadata": {
      "needs_background": "light"
     },
     "output_type": "display_data"
    }
   ],
   "source": [
    "# Original\n",
    "sns.distplot(df, hist=True, kde=True)"
   ]
  },
  {
   "cell_type": "code",
   "execution_count": null,
   "metadata": {},
   "outputs": [],
   "source": []
  },
  {
   "cell_type": "code",
   "execution_count": null,
   "metadata": {},
   "outputs": [],
   "source": [
    "*********************************************************************************\n",
    "# Histograma\n",
    "*********************************************************************************"
   ]
  },
  {
   "cell_type": "code",
   "execution_count": 14,
   "metadata": {
    "collapsed": true
   },
   "outputs": [
    {
     "data": {
      "image/png": "[encoded data removed]",
      "text/plain": [
       "<Figure size 432x288 with 1 Axes>"
      ]
     },
     "metadata": {
      "needs_background": "light"
     },
     "output_type": "display_data"
    }
   ],
   "source": [
    "from scipy.stats import norm\n",
    " \n",
    "# Fit a normal distribution to\n",
    "# the data:\n",
    "# mean and standard deviation\n",
    "mu, std = norm.fit(df) \n",
    "  \n",
    "# Plot the histogram.\n",
    "plt.hist(df[coluna], bins=13, density=True, alpha=0.6, color='b')\n",
    "  \n",
    "# Plot the PDF.\n",
    "xmin, xmax = plt.xlim()\n",
    "x = np.linspace(xmin, xmax, 100)\n",
    "p = norm.pdf(x, mu, std)\n",
    "  \n",
    "plt.plot(x, p, 'k', linewidth=2)\n",
    "title = \"Fit Values: Mean: {:.2f} and Standard Deviation: {:.2f}\".format(mu, std)\n",
    "plt.title(title)\n",
    "  \n",
    "plt.show()\n"
   ]
  },
  {
   "cell_type": "code",
   "execution_count": null,
   "metadata": {},
   "outputs": [],
   "source": []
  },
  {
   "cell_type": "code",
   "execution_count": null,
   "metadata": {},
   "outputs": [],
   "source": [
    "*********************************************************************************\n",
    "# Augmented Dickey-Fuller\n",
    "*********************************************************************************"
   ]
  },
  {
   "cell_type": "code",
   "execution_count": 15,
   "metadata": {},
   "outputs": [
    {
     "data": {
      "text/plain": [
       "[<matplotlib.lines.Line2D at 0x1bd94e54a08>]"
      ]
     },
     "execution_count": 15,
     "metadata": {},
     "output_type": "execute_result"
    },
    {
     "data": {
      "image/png": "[encoded data removed]",
      "text/plain": [
       "<Figure size 432x288 with 1 Axes>"
      ]
     },
     "metadata": {
      "needs_background": "light"
     },
     "output_type": "display_data"
    }
   ],
   "source": [
    "# Exemplo não estacionário\n",
    "plt.plot(df)\n"
   ]
  },
  {
   "cell_type": "code",
   "execution_count": 16,
   "metadata": {},
   "outputs": [
    {
     "name": "stdout",
     "output_type": "stream",
     "text": [
      "ADF Statistic: -2.682064\n",
      "p-value: 0.077194\n",
      "Critical Values:\n",
      "\t1%: -3.449\n",
      "\t5%: -2.870\n",
      "\t10%: -2.571\n"
     ]
    }
   ],
   "source": [
    "# ADF Statistic - sem log\n",
    "X = df.values\n",
    "result = adfuller(X)\n",
    "print('ADF Statistic: %f' % result[0])\n",
    "print('p-value: %f' % result[1])\n",
    "print('Critical Values:')\n",
    "for key, value in result[4].items():\n",
    "    print('\\t%s: %.3f' % (key, value))"
   ]
  },
  {
   "cell_type": "code",
   "execution_count": null,
   "metadata": {},
   "outputs": [],
   "source": [
    "Here’s how to interpret the most important values in the output:\n",
    "\n",
    "Test statistic: -2.682\n",
    "P-value: 0.077193708\n",
    "Since the p-value is not less than .05, we fail to reject the null hypothesis.\n",
    "\n",
    "Isso significa que a série temporal não está estacionária. Em outras palavras, tem alguma \n",
    "estrutura dependente do tempo e não tem variância constante ao longo do tempo.\n",
    "\n",
    "Teste Augmented Dickey-Fuller\n",
    "p-value > 0.05: Fail to reject the null hypothesis (H0), the data has a unit root and is non-stationary.\n",
    "p-value <= 0.05: Reject the null hypothesis (H0), the data does not have a unit root and is stationary.\n"
   ]
  },
  {
   "cell_type": "code",
   "execution_count": 17,
   "metadata": {},
   "outputs": [
    {
     "name": "stdout",
     "output_type": "stream",
     "text": [
      "ADF Statistic: -2.581104\n",
      "p-value: 0.096966\n",
      "Critical Values:\n",
      "\t1%: -3.449\n",
      "\t5%: -2.870\n",
      "\t10%: -2.571\n"
     ]
    }
   ],
   "source": [
    "# ADF Statistic - com log\n",
    "X = df.values\n",
    "X = np.log(X)\n",
    "result = adfuller(X)\n",
    "print('ADF Statistic: %f' % result[0])\n",
    "print('p-value: %f' % result[1])\n",
    "print('Critical Values:')\n",
    "for key, value in result[4].items():\n",
    "    print('\\t%s: %.3f' % (key, value))"
   ]
  },
  {
   "cell_type": "code",
   "execution_count": 18,
   "metadata": {},
   "outputs": [
    {
     "name": "stdout",
     "output_type": "stream",
     "text": [
      "ADF Statistic: -2.615926\n",
      "p-value: 0.089750\n",
      "Critical Values:\n",
      "\t1%: -3.449\n",
      "\t5%: -2.870\n",
      "\t10%: -2.571\n"
     ]
    }
   ],
   "source": [
    "# BOX COX\n",
    "X = pd.DataFrame(transformed_data).values\n",
    "result = adfuller(X)\n",
    "print('ADF Statistic: %f' % result[0])\n",
    "print('p-value: %f' % result[1])\n",
    "print('Critical Values:')\n",
    "for key, value in result[4].items():\n",
    "    print('\\t%s: %.3f' % (key, value))"
   ]
  },
  {
   "cell_type": "code",
   "execution_count": 91,
   "metadata": {},
   "outputs": [
    {
     "name": "stdout",
     "output_type": "stream",
     "text": [
      "ADF Statistic: -7.168283\n",
      "p-value: 0.000000\n",
      "Critical Values:\n",
      "\t1%: -3.450\n",
      "\t5%: -2.870\n",
      "\t10%: -2.571\n"
     ]
    }
   ],
   "source": [
    "# BOX COX com diferenciação\n",
    "X = pd.DataFrame(transformed_data)\n",
    "X = X.diff(periods=1).dropna()\n",
    "result = adfuller(X)\n",
    "print('ADF Statistic: %f' % result[0])\n",
    "print('p-value: %f' % result[1])\n",
    "print('Critical Values:')\n",
    "for key, value in result[4].items():\n",
    "    print('\\t%s: %.3f' % (key, value))"
   ]
  },
  {
   "cell_type": "code",
   "execution_count": 34,
   "metadata": {},
   "outputs": [
    {
     "data": {
      "text/plain": [
       "<matplotlib.axes._subplots.AxesSubplot at 0x1bd954a1c88>"
      ]
     },
     "execution_count": 34,
     "metadata": {},
     "output_type": "execute_result"
    },
    {
     "data": {
      "image/png": "[encoded data removed]",
      "text/plain": [
       "<Figure size 432x288 with 1 Axes>"
      ]
     },
     "metadata": {
      "needs_background": "light"
     },
     "output_type": "display_data"
    }
   ],
   "source": [
    "X.plot()"
   ]
  },
  {
   "cell_type": "code",
   "execution_count": 94,
   "metadata": {},
   "outputs": [],
   "source": [
    "# Exemplo - retornar diferenciação"
   ]
  },
  {
   "cell_type": "code",
   "execution_count": 95,
   "metadata": {},
   "outputs": [],
   "source": [
    "def diff_inv(series_diff, first_value):\n",
    "    series_inverted = np.r_[first_value, series_diff].cumsum().astype('float64')\n",
    "    return series_inverted"
   ]
  },
  {
   "cell_type": "code",
   "execution_count": 96,
   "metadata": {},
   "outputs": [],
   "source": [
    "df_diff = df.diff().dropna()"
   ]
  },
  {
   "cell_type": "code",
   "execution_count": 99,
   "metadata": {},
   "outputs": [
    {
     "data": {
      "text/html": [
       "<div>\n",
       "<style scoped>\n",
       "    .dataframe tbody tr th:only-of-type {\n",
       "        vertical-align: middle;\n",
       "    }\n",
       "\n",
       "    .dataframe tbody tr th {\n",
       "        vertical-align: top;\n",
       "    }\n",
       "\n",
       "    .dataframe thead th {\n",
       "        text-align: right;\n",
       "    }\n",
       "</style>\n",
       "<table border=\"1\" class=\"dataframe\">\n",
       "  <thead>\n",
       "    <tr style=\"text-align: right;\">\n",
       "      <th></th>\n",
       "      <th>TempoMinutos</th>\n",
       "    </tr>\n",
       "    <tr>\n",
       "      <th>DiaInicio</th>\n",
       "      <th></th>\n",
       "    </tr>\n",
       "  </thead>\n",
       "  <tbody>\n",
       "    <tr>\n",
       "      <th>2021-01-06</th>\n",
       "      <td>-38.0</td>\n",
       "    </tr>\n",
       "    <tr>\n",
       "      <th>2021-01-07</th>\n",
       "      <td>13.0</td>\n",
       "    </tr>\n",
       "    <tr>\n",
       "      <th>2021-01-08</th>\n",
       "      <td>-2.0</td>\n",
       "    </tr>\n",
       "    <tr>\n",
       "      <th>2021-01-09</th>\n",
       "      <td>26.0</td>\n",
       "    </tr>\n",
       "    <tr>\n",
       "      <th>2021-01-10</th>\n",
       "      <td>-18.0</td>\n",
       "    </tr>\n",
       "    <tr>\n",
       "      <th>...</th>\n",
       "      <td>...</td>\n",
       "    </tr>\n",
       "    <tr>\n",
       "      <th>2021-12-25</th>\n",
       "      <td>35.0</td>\n",
       "    </tr>\n",
       "    <tr>\n",
       "      <th>2021-12-26</th>\n",
       "      <td>-32.0</td>\n",
       "    </tr>\n",
       "    <tr>\n",
       "      <th>2021-12-27</th>\n",
       "      <td>-24.0</td>\n",
       "    </tr>\n",
       "    <tr>\n",
       "      <th>2021-12-28</th>\n",
       "      <td>23.0</td>\n",
       "    </tr>\n",
       "    <tr>\n",
       "      <th>2021-12-29</th>\n",
       "      <td>-30.0</td>\n",
       "    </tr>\n",
       "  </tbody>\n",
       "</table>\n",
       "<p>358 rows × 1 columns</p>\n",
       "</div>"
      ],
      "text/plain": [
       "            TempoMinutos\n",
       "DiaInicio               \n",
       "2021-01-06         -38.0\n",
       "2021-01-07          13.0\n",
       "2021-01-08          -2.0\n",
       "2021-01-09          26.0\n",
       "2021-01-10         -18.0\n",
       "...                  ...\n",
       "2021-12-25          35.0\n",
       "2021-12-26         -32.0\n",
       "2021-12-27         -24.0\n",
       "2021-12-28          23.0\n",
       "2021-12-29         -30.0\n",
       "\n",
       "[358 rows x 1 columns]"
      ]
     },
     "execution_count": 99,
     "metadata": {},
     "output_type": "execute_result"
    }
   ],
   "source": [
    "df_diff"
   ]
  },
  {
   "cell_type": "code",
   "execution_count": 97,
   "metadata": {},
   "outputs": [],
   "source": [
    "inversed_series = diff_inv(df_diff[coluna] , df[coluna][0])"
   ]
  },
  {
   "cell_type": "code",
   "execution_count": 98,
   "metadata": {
    "collapsed": true
   },
   "outputs": [
    {
     "data": {
      "text/plain": [
       "array([139., 101., 114., 112., 138., 120., 120., 171.,  82.,  92.,  79.,\n",
       "        82.,  83.,  83., 116.,  84.,  68.,  79.,  72.,  83.,  83.,  99.,\n",
       "        81.,  78.,  64., 120.,  88.,  88., 120.,  64.,  78.,  75., 147.,\n",
       "        96.,  96., 175.,  91.,  90.,  90.,  87., 106., 106., 106., 106.,\n",
       "       136.,  57.,  95.,  96.,  96., 116.,  78., 100.,  66., 109.,  94.,\n",
       "        94., 150.,  84., 111., 108., 139., 118., 118., 155., 128.,  93.,\n",
       "        62.,  57.,  99.,  99., 121., 155.,  64.,  61.,  68.,  94.,  94.,\n",
       "        94.,  65.,  57., 137., 106.,  91.,  91.,  75.,  83., 107., 111.,\n",
       "        94.,  94.,  94., 172., 129., 244., 163., 173., 176., 176., 183.,\n",
       "       133., 114., 147., 116., 139., 139., 198., 185., 191., 119., 111.,\n",
       "       115., 115., 216., 152., 100., 141., 227., 167., 167., 115., 167.,\n",
       "       133., 158., 143., 143., 143., 130., 157., 135., 130., 144., 139.,\n",
       "       139., 163., 112., 120., 154., 141., 139., 139., 172.,  94., 127.,\n",
       "       116.,  98., 121., 121., 190., 179., 140., 170., 196., 175., 175.,\n",
       "       192., 178., 133., 125.,  99., 145., 145., 140., 147., 104.,  85.,\n",
       "       113., 117., 117., 134., 120.,  92.,  78.,  97., 104., 104., 173.,\n",
       "       102., 169., 170., 122., 147., 147.,  88., 212., 203., 139.,  83.,\n",
       "       145., 145.,  90., 145.,  94., 109., 136., 114., 114., 164., 203.,\n",
       "       155., 107., 144., 154., 154., 154., 119., 207., 148., 191., 166.,\n",
       "       166., 150., 134., 154., 130., 145., 142., 142., 140., 205., 200.,\n",
       "       212., 164., 184., 184., 143., 181., 153., 199., 190., 173., 173.,\n",
       "       129., 177., 224., 176., 165., 174., 174., 170., 233., 153., 147.,\n",
       "       200., 180., 180., 221., 180., 217., 241., 172., 202., 202., 170.,\n",
       "       105., 199., 152., 147., 154., 154., 138., 207., 194.,  90.,  95.,\n",
       "       145., 145., 120.,  90.,  77., 125., 126., 107., 107., 154., 158.,\n",
       "       147., 167., 134., 152., 152., 115., 240., 196., 129., 106., 157.,\n",
       "       157.,  87., 133., 204., 103., 106., 126., 126., 128.,  82., 105.,\n",
       "       102., 164., 116., 116., 195., 155., 112., 111., 205., 153., 155.,\n",
       "        57., 145., 143., 167., 108., 124., 124., 124.,  96., 108., 106.,\n",
       "       129., 112.,  99., 148., 143., 100.,  84., 114., 131., 116., 101.,\n",
       "        71., 106., 167., 102., 166., 167., 119.,  94., 214., 199., 141.,\n",
       "        84.,  97., 153.,  86., 141., 162., 205., 155., 112., 154., 118.,\n",
       "       217., 153., 188., 156., 132., 155., 125.])"
      ]
     },
     "execution_count": 98,
     "metadata": {},
     "output_type": "execute_result"
    }
   ],
   "source": [
    "inversed_series"
   ]
  },
  {
   "cell_type": "code",
   "execution_count": 100,
   "metadata": {
    "collapsed": true
   },
   "outputs": [
    {
     "data": {
      "text/html": [
       "<div>\n",
       "<style scoped>\n",
       "    .dataframe tbody tr th:only-of-type {\n",
       "        vertical-align: middle;\n",
       "    }\n",
       "\n",
       "    .dataframe tbody tr th {\n",
       "        vertical-align: top;\n",
       "    }\n",
       "\n",
       "    .dataframe thead th {\n",
       "        text-align: right;\n",
       "    }\n",
       "</style>\n",
       "<table border=\"1\" class=\"dataframe\">\n",
       "  <thead>\n",
       "    <tr style=\"text-align: right;\">\n",
       "      <th></th>\n",
       "      <th>TempoMinutos</th>\n",
       "    </tr>\n",
       "    <tr>\n",
       "      <th>DiaInicio</th>\n",
       "      <th></th>\n",
       "    </tr>\n",
       "  </thead>\n",
       "  <tbody>\n",
       "    <tr>\n",
       "      <th>2021-01-05</th>\n",
       "      <td>139</td>\n",
       "    </tr>\n",
       "    <tr>\n",
       "      <th>2021-01-06</th>\n",
       "      <td>101</td>\n",
       "    </tr>\n",
       "    <tr>\n",
       "      <th>2021-01-07</th>\n",
       "      <td>114</td>\n",
       "    </tr>\n",
       "    <tr>\n",
       "      <th>2021-01-08</th>\n",
       "      <td>112</td>\n",
       "    </tr>\n",
       "    <tr>\n",
       "      <th>2021-01-09</th>\n",
       "      <td>138</td>\n",
       "    </tr>\n",
       "    <tr>\n",
       "      <th>...</th>\n",
       "      <td>...</td>\n",
       "    </tr>\n",
       "    <tr>\n",
       "      <th>2021-12-25</th>\n",
       "      <td>188</td>\n",
       "    </tr>\n",
       "    <tr>\n",
       "      <th>2021-12-26</th>\n",
       "      <td>156</td>\n",
       "    </tr>\n",
       "    <tr>\n",
       "      <th>2021-12-27</th>\n",
       "      <td>132</td>\n",
       "    </tr>\n",
       "    <tr>\n",
       "      <th>2021-12-28</th>\n",
       "      <td>155</td>\n",
       "    </tr>\n",
       "    <tr>\n",
       "      <th>2021-12-29</th>\n",
       "      <td>125</td>\n",
       "    </tr>\n",
       "  </tbody>\n",
       "</table>\n",
       "<p>359 rows × 1 columns</p>\n",
       "</div>"
      ],
      "text/plain": [
       "            TempoMinutos\n",
       "DiaInicio               \n",
       "2021-01-05           139\n",
       "2021-01-06           101\n",
       "2021-01-07           114\n",
       "2021-01-08           112\n",
       "2021-01-09           138\n",
       "...                  ...\n",
       "2021-12-25           188\n",
       "2021-12-26           156\n",
       "2021-12-27           132\n",
       "2021-12-28           155\n",
       "2021-12-29           125\n",
       "\n",
       "[359 rows x 1 columns]"
      ]
     },
     "execution_count": 100,
     "metadata": {},
     "output_type": "execute_result"
    }
   ],
   "source": [
    "df"
   ]
  },
  {
   "cell_type": "code",
   "execution_count": null,
   "metadata": {},
   "outputs": [],
   "source": [
    "*** ROTEIRO\n",
    "******************************************************************************************\n",
    "# Nem com LOG e BOXCOX passou no teste de Dickey Furley\n",
    "******************************************************************************************\n",
    "\n",
    "# Efetuar diferenciações\n",
    "\n",
    "# Sugiro estudar o fluxo proposto por Box e Jenkins (1976): \n",
    "# 1:Plotar a série e examinar; \n",
    "# 2: Diferenciar a série até ficar estacionária e fazer transformações, se necessário; \n",
    "# 3: Usar séries diferenciadas para definir p e q; \n",
    "# 4: Implementar o Arima nos dados originais; \n",
    "# 5: Checar se é um bom modelo; \n",
    "# 6: Usar o modelo para fazer previsões."
   ]
  }
 ],
 "metadata": {
  "kernelspec": {
   "display_name": "Python 3",
   "language": "python",
   "name": "python3"
  },
  "language_info": {
   "codemirror_mode": {
    "name": "ipython",
    "version": 3
   },
   "file_extension": ".py",
   "mimetype": "text/x-python",
   "name": "python",
   "nbconvert_exporter": "python",
   "pygments_lexer": "ipython3",
   "version": "3.7.6"
  }
 },
 "nbformat": 4,
 "nbformat_minor": 4
}

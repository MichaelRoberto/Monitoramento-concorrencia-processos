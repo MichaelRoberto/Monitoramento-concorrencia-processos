{
 "cells": [
  {
   "cell_type": "code",
   "execution_count": 1,
   "metadata": {},
   "outputs": [],
   "source": [
    "# a) Tempo de duração da Rotina 04    -  TempoMinutos --> TESTES EFETUADOS PARA ESTE CENÁRIO\n",
    "# b) Início de execução da Rotina 01  -  TempoMinutosInicioExecucao\n",
    "# c) Tempo de duração da Rotina 01    -  TempoMinutos\n"
   ]
  },
  {
   "cell_type": "code",
   "execution_count": 2,
   "metadata": {},
   "outputs": [],
   "source": [
    "import pandas as pd\n",
    "import numpy as np\n",
    "import matplotlib.pyplot as plt\n",
    "from sklearn.metrics import mean_squared_error as mse"
   ]
  },
  {
   "cell_type": "code",
   "execution_count": 3,
   "metadata": {},
   "outputs": [],
   "source": [
    "# Define Pesquisa\n",
    "processo = 'Rotina_04'\n",
    "coluna = 'TempoMinutos'"
   ]
  },
  {
   "cell_type": "code",
   "execution_count": 4,
   "metadata": {
    "id": "2fRF6mEW5QbK"
   },
   "outputs": [
    {
     "data": {
      "text/html": [
       "<div>\n",
       "<style scoped>\n",
       "    .dataframe tbody tr th:only-of-type {\n",
       "        vertical-align: middle;\n",
       "    }\n",
       "\n",
       "    .dataframe tbody tr th {\n",
       "        vertical-align: top;\n",
       "    }\n",
       "\n",
       "    .dataframe thead th {\n",
       "        text-align: right;\n",
       "    }\n",
       "</style>\n",
       "<table border=\"1\" class=\"dataframe\">\n",
       "  <thead>\n",
       "    <tr style=\"text-align: right;\">\n",
       "      <th></th>\n",
       "      <th>DiaInicio</th>\n",
       "      <th>DtHoraInicio</th>\n",
       "      <th>DtHoraFim</th>\n",
       "      <th>Processo</th>\n",
       "      <th>TempoMinutos</th>\n",
       "      <th>TempoMinutosInicioExecucao</th>\n",
       "    </tr>\n",
       "  </thead>\n",
       "  <tbody>\n",
       "    <tr>\n",
       "      <th>1077</th>\n",
       "      <td>2021-01-05</td>\n",
       "      <td>2021-01-05 02:44:00</td>\n",
       "      <td>2021-01-05 06:30:00</td>\n",
       "      <td>Rotina_04</td>\n",
       "      <td>226</td>\n",
       "      <td>164.0</td>\n",
       "    </tr>\n",
       "    <tr>\n",
       "      <th>1078</th>\n",
       "      <td>2021-01-06</td>\n",
       "      <td>2021-01-06 02:16:00</td>\n",
       "      <td>2021-01-06 06:52:00</td>\n",
       "      <td>Rotina_04</td>\n",
       "      <td>276</td>\n",
       "      <td>136.0</td>\n",
       "    </tr>\n",
       "    <tr>\n",
       "      <th>1079</th>\n",
       "      <td>2021-01-07</td>\n",
       "      <td>2021-01-07 04:27:00</td>\n",
       "      <td>2021-01-07 11:11:00</td>\n",
       "      <td>Rotina_04</td>\n",
       "      <td>404</td>\n",
       "      <td>267.0</td>\n",
       "    </tr>\n",
       "    <tr>\n",
       "      <th>1080</th>\n",
       "      <td>2021-01-08</td>\n",
       "      <td>2021-01-08 04:06:00</td>\n",
       "      <td>2021-01-08 10:44:00</td>\n",
       "      <td>Rotina_04</td>\n",
       "      <td>398</td>\n",
       "      <td>246.0</td>\n",
       "    </tr>\n",
       "    <tr>\n",
       "      <th>1081</th>\n",
       "      <td>2021-01-09</td>\n",
       "      <td>2021-01-09 02:06:00</td>\n",
       "      <td>2021-01-09 06:15:00</td>\n",
       "      <td>Rotina_04</td>\n",
       "      <td>249</td>\n",
       "      <td>126.0</td>\n",
       "    </tr>\n",
       "  </tbody>\n",
       "</table>\n",
       "</div>"
      ],
      "text/plain": [
       "      DiaInicio        DtHoraInicio           DtHoraFim   Processo  \\\n",
       "1077 2021-01-05 2021-01-05 02:44:00 2021-01-05 06:30:00  Rotina_04   \n",
       "1078 2021-01-06 2021-01-06 02:16:00 2021-01-06 06:52:00  Rotina_04   \n",
       "1079 2021-01-07 2021-01-07 04:27:00 2021-01-07 11:11:00  Rotina_04   \n",
       "1080 2021-01-08 2021-01-08 04:06:00 2021-01-08 10:44:00  Rotina_04   \n",
       "1081 2021-01-09 2021-01-09 02:06:00 2021-01-09 06:15:00  Rotina_04   \n",
       "\n",
       "      TempoMinutos  TempoMinutosInicioExecucao  \n",
       "1077           226                       164.0  \n",
       "1078           276                       136.0  \n",
       "1079           404                       267.0  \n",
       "1080           398                       246.0  \n",
       "1081           249                       126.0  "
      ]
     },
     "execution_count": 4,
     "metadata": {},
     "output_type": "execute_result"
    }
   ],
   "source": [
    "# Efetua carga da base\n",
    "_df = pd.read_excel('DataFrame_Processos_Percentual_Base_CompletaAjusteOutLiers.xlsx')\n",
    "_df = _df.loc[_df['Processo']==processo]\n",
    "_df.head()"
   ]
  },
  {
   "cell_type": "code",
   "execution_count": 5,
   "metadata": {},
   "outputs": [],
   "source": [
    "# Cria Dataframe somente com as colunas que interessam\n",
    "df = pd.DataFrame(_df, columns = ['DiaInicio', coluna])\n",
    "df.DiaInicio = pd.to_datetime(df.DiaInicio)\n",
    "df.set_index('DiaInicio', inplace=True)"
   ]
  },
  {
   "cell_type": "code",
   "execution_count": 6,
   "metadata": {},
   "outputs": [
    {
     "data": {
      "text/html": [
       "<div>\n",
       "<style scoped>\n",
       "    .dataframe tbody tr th:only-of-type {\n",
       "        vertical-align: middle;\n",
       "    }\n",
       "\n",
       "    .dataframe tbody tr th {\n",
       "        vertical-align: top;\n",
       "    }\n",
       "\n",
       "    .dataframe thead th {\n",
       "        text-align: right;\n",
       "    }\n",
       "</style>\n",
       "<table border=\"1\" class=\"dataframe\">\n",
       "  <thead>\n",
       "    <tr style=\"text-align: right;\">\n",
       "      <th></th>\n",
       "      <th>TempoMinutos</th>\n",
       "    </tr>\n",
       "    <tr>\n",
       "      <th>DiaInicio</th>\n",
       "      <th></th>\n",
       "    </tr>\n",
       "  </thead>\n",
       "  <tbody>\n",
       "    <tr>\n",
       "      <th>2021-01-05</th>\n",
       "      <td>226</td>\n",
       "    </tr>\n",
       "    <tr>\n",
       "      <th>2021-01-06</th>\n",
       "      <td>276</td>\n",
       "    </tr>\n",
       "    <tr>\n",
       "      <th>2021-01-07</th>\n",
       "      <td>404</td>\n",
       "    </tr>\n",
       "    <tr>\n",
       "      <th>2021-01-08</th>\n",
       "      <td>398</td>\n",
       "    </tr>\n",
       "    <tr>\n",
       "      <th>2021-01-09</th>\n",
       "      <td>249</td>\n",
       "    </tr>\n",
       "  </tbody>\n",
       "</table>\n",
       "</div>"
      ],
      "text/plain": [
       "            TempoMinutos\n",
       "DiaInicio               \n",
       "2021-01-05           226\n",
       "2021-01-06           276\n",
       "2021-01-07           404\n",
       "2021-01-08           398\n",
       "2021-01-09           249"
      ]
     },
     "execution_count": 6,
     "metadata": {},
     "output_type": "execute_result"
    }
   ],
   "source": [
    "df.head()"
   ]
  },
  {
   "cell_type": "code",
   "execution_count": 7,
   "metadata": {},
   "outputs": [
    {
     "data": {
      "text/plain": [
       "<matplotlib.axes._subplots.AxesSubplot at 0x24a88770b88>"
      ]
     },
     "execution_count": 7,
     "metadata": {},
     "output_type": "execute_result"
    },
    {
     "data": {
      "image/png": "[encoded data removed]",
      "text/plain": [
       "<Figure size 864x432 with 1 Axes>"
      ]
     },
     "metadata": {
      "needs_background": "light"
     },
     "output_type": "display_data"
    }
   ],
   "source": [
    "df.plot(figsize=(12,6))"
   ]
  },
  {
   "cell_type": "code",
   "execution_count": 8,
   "metadata": {
    "id": "jcew1g4f6L_X"
   },
   "outputs": [],
   "source": [
    "from statsmodels.tsa.seasonal import seasonal_decompose"
   ]
  },
  {
   "cell_type": "code",
   "execution_count": 9,
   "metadata": {
    "colab": {
     "base_uri": "https://localhost:8080/",
     "height": 297
    },
    "id": "zfTZaeEH6Wpn",
    "outputId": "3f6120dd-ff89-4c21-bce1-32dc4d01b02c"
   },
   "outputs": [
    {
     "data": {
      "image/png": "[encoded data removed]",
      "text/plain": [
       "<Figure size 432x288 with 4 Axes>"
      ]
     },
     "metadata": {
      "needs_background": "light"
     },
     "output_type": "display_data"
    }
   ],
   "source": [
    "results = seasonal_decompose(df[coluna])\n",
    "results.plot();"
   ]
  },
  {
   "cell_type": "code",
   "execution_count": 10,
   "metadata": {
    "colab": {
     "base_uri": "https://localhost:8080/"
    },
    "id": "IzkqCHh_6lfn",
    "outputId": "79c7a98c-acaf-4ad7-a807-70898e3b83e1"
   },
   "outputs": [
    {
     "data": {
      "text/plain": [
       "359"
      ]
     },
     "execution_count": 10,
     "metadata": {},
     "output_type": "execute_result"
    }
   ],
   "source": [
    "tamDF = len(df)\n",
    "tamDF"
   ]
  },
  {
   "cell_type": "code",
   "execution_count": 11,
   "metadata": {
    "id": "1NoWcZEK6rPb"
   },
   "outputs": [],
   "source": [
    "# 359-12 = 347\n",
    "n_previsoes=60\n",
    "tamTreino = tamDF - n_previsoes\n",
    "train = df.iloc[:tamTreino]\n",
    "test = df.iloc[tamTreino:]"
   ]
  },
  {
   "cell_type": "code",
   "execution_count": 12,
   "metadata": {
    "id": "dtAgIrE66u6x"
   },
   "outputs": [],
   "source": [
    "from sklearn.preprocessing import MinMaxScaler\n",
    "scaler = MinMaxScaler()"
   ]
  },
  {
   "cell_type": "code",
   "execution_count": 13,
   "metadata": {
    "colab": {
     "base_uri": "https://localhost:8080/"
    },
    "id": "UDQODrt4D5NK",
    "outputId": "add8aaaf-9916-4484-af9c-3f5967dad1cd"
   },
   "outputs": [
    {
     "data": {
      "text/plain": [
       "(            TempoMinutos\n",
       " DiaInicio               \n",
       " 2021-01-05           226\n",
       " 2021-01-06           276\n",
       " 2021-01-07           404\n",
       " 2021-01-08           398\n",
       " 2021-01-09           249,\n",
       "             TempoMinutos\n",
       " DiaInicio               \n",
       " 2021-12-25           442\n",
       " 2021-12-26           352\n",
       " 2021-12-27           408\n",
       " 2021-12-28           482\n",
       " 2021-12-29           401)"
      ]
     },
     "execution_count": 13,
     "metadata": {},
     "output_type": "execute_result"
    }
   ],
   "source": [
    "df.head(),df.tail()"
   ]
  },
  {
   "cell_type": "code",
   "execution_count": 14,
   "metadata": {
    "id": "ijgmVYgC6zBz"
   },
   "outputs": [],
   "source": [
    "scaler.fit(train)\n",
    "scaled_train = scaler.transform(train)\n",
    "scaled_test = scaler.transform(test)"
   ]
  },
  {
   "cell_type": "code",
   "execution_count": 15,
   "metadata": {
    "colab": {
     "base_uri": "https://localhost:8080/"
    },
    "id": "BrdKbJ3g6-Et",
    "outputId": "ec956dda-aab6-433c-d846-523769fa65e7"
   },
   "outputs": [
    {
     "data": {
      "text/plain": [
       "array([[0.21826281],\n",
       "       [0.32962138],\n",
       "       [0.61469933],\n",
       "       [0.6013363 ],\n",
       "       [0.26948775]])"
      ]
     },
     "execution_count": 15,
     "metadata": {},
     "output_type": "execute_result"
    }
   ],
   "source": [
    "scaled_train[:5]"
   ]
  },
  {
   "cell_type": "code",
   "execution_count": 16,
   "metadata": {
    "id": "0xryZ7rR62y5"
   },
   "outputs": [],
   "source": [
    "from keras.preprocessing.sequence import TimeseriesGenerator"
   ]
  },
  {
   "cell_type": "code",
   "execution_count": 17,
   "metadata": {
    "id": "jm-T4H4I7UaV"
   },
   "outputs": [],
   "source": [
    "# n_input - qtdade de períodos a serem agrupados(previstos)\n",
    "n_features = 1\n",
    "n_input = 14\n",
    "generator = TimeseriesGenerator(scaled_train, scaled_train, length=n_input, batch_size=1)"
   ]
  },
  {
   "cell_type": "code",
   "execution_count": 18,
   "metadata": {
    "id": "bzIs_l_k7Zqg"
   },
   "outputs": [],
   "source": [
    "from keras.models import Sequential\n",
    "from keras.layers import Dense\n",
    "from keras.layers import LSTM"
   ]
  },
  {
   "cell_type": "code",
   "execution_count": 19,
   "metadata": {},
   "outputs": [],
   "source": [
    "from tensorflow.keras.models import Sequential\n",
    "from tensorflow.keras.layers import *\n",
    "from tensorflow.keras.callbacks import ModelCheckpoint\n",
    "from tensorflow.keras.losses import MeanSquaredError\n",
    "from tensorflow.keras.metrics import RootMeanSquaredError\n",
    "from tensorflow.keras.optimizers import Adam"
   ]
  },
  {
   "cell_type": "code",
   "execution_count": 20,
   "metadata": {
    "id": "eJa-wFQf7jw6"
   },
   "outputs": [],
   "source": [
    "# REDE NEURAL CONVOLUCIONAL\n",
    "\n",
    "model = Sequential()\n",
    "model.add(InputLayer((n_input, 1))) # n_input --> TAMANHO DA JANELA \n",
    "model.add(Conv1D(50, kernel_size=2))\n",
    "model.add(Flatten())\n",
    "model.add(Dense(40, 'relu'))\n",
    "model.add(Dense(40, 'relu'))\n",
    "model.add(Dense(1, 'linear'))\n",
    "model.compile(loss=MeanSquaredError(), optimizer=Adam(learning_rate=0.00001), metrics=[RootMeanSquaredError()])\n",
    "\n"
   ]
  },
  {
   "cell_type": "code",
   "execution_count": 21,
   "metadata": {
    "colab": {
     "base_uri": "https://localhost:8080/"
    },
    "id": "7i4ucUNv7lbk",
    "outputId": "7f66fb4d-f3af-4d9c-ae3a-9eb97a722ea6"
   },
   "outputs": [
    {
     "name": "stdout",
     "output_type": "stream",
     "text": [
      "Model: \"sequential\"\n",
      "_________________________________________________________________\n",
      " Layer (type)                Output Shape              Param #   \n",
      "=================================================================\n",
      " conv1d (Conv1D)             (None, 13, 50)            150       \n",
      "                                                                 \n",
      " flatten (Flatten)           (None, 650)               0         \n",
      "                                                                 \n",
      " dense (Dense)               (None, 40)                26040     \n",
      "                                                                 \n",
      " dense_1 (Dense)             (None, 40)                1640      \n",
      "                                                                 \n",
      " dense_2 (Dense)             (None, 1)                 41        \n",
      "                                                                 \n",
      "=================================================================\n",
      "Total params: 27,871\n",
      "Trainable params: 27,871\n",
      "Non-trainable params: 0\n",
      "_________________________________________________________________\n"
     ]
    }
   ],
   "source": [
    "model.summary()"
   ]
  },
  {
   "cell_type": "code",
   "execution_count": 22,
   "metadata": {
    "colab": {
     "base_uri": "https://localhost:8080/"
    },
    "id": "p8yqUZaz7nwp",
    "outputId": "94c9f117-53be-438c-ba31-d7c7fa546f42"
   },
   "outputs": [
    {
     "name": "stdout",
     "output_type": "stream",
     "text": [
      "Epoch 1/10\n",
      "285/285 [==============================] - 1s 1ms/step - loss: 0.0890 - root_mean_squared_error: 0.2983\n",
      "Epoch 2/10\n",
      "285/285 [==============================] - 0s 1ms/step - loss: 0.0232 - root_mean_squared_error: 0.1522\n",
      "Epoch 3/10\n",
      "285/285 [==============================] - 0s 1ms/step - loss: 0.0202 - root_mean_squared_error: 0.1422\n",
      "Epoch 4/10\n",
      "285/285 [==============================] - 0s 1ms/step - loss: 0.0199 - root_mean_squared_error: 0.1412\n",
      "Epoch 5/10\n",
      "285/285 [==============================] - 0s 1ms/step - loss: 0.0198 - root_mean_squared_error: 0.1405\n",
      "Epoch 6/10\n",
      "285/285 [==============================] - 0s 1ms/step - loss: 0.0195 - root_mean_squared_error: 0.1396\n",
      "Epoch 7/10\n",
      "285/285 [==============================] - 0s 1ms/step - loss: 0.0194 - root_mean_squared_error: 0.1391\n",
      "Epoch 8/10\n",
      "285/285 [==============================] - 0s 1ms/step - loss: 0.0190 - root_mean_squared_error: 0.1379\n",
      "Epoch 9/10\n",
      "285/285 [==============================] - 0s 1ms/step - loss: 0.0186 - root_mean_squared_error: 0.1366\n",
      "Epoch 10/10\n",
      "285/285 [==============================] - 0s 1ms/step - loss: 0.0183 - root_mean_squared_error: 0.1355\n"
     ]
    },
    {
     "data": {
      "text/plain": [
       "<keras.callbacks.History at 0x24a93334648>"
      ]
     },
     "execution_count": 22,
     "metadata": {},
     "output_type": "execute_result"
    }
   ],
   "source": [
    "# fit model - a partir de 3 épocas ja não tem mais ganho\n",
    "model.fit(generator,epochs=10)"
   ]
  },
  {
   "cell_type": "code",
   "execution_count": 23,
   "metadata": {
    "colab": {
     "base_uri": "https://localhost:8080/",
     "height": 282
    },
    "id": "OjDsOKR67rs8",
    "outputId": "46a3d438-6cea-4a47-f4bf-b60f2246561d"
   },
   "outputs": [
    {
     "data": {
      "text/plain": [
       "[<matplotlib.lines.Line2D at 0x24a9388b948>]"
      ]
     },
     "execution_count": 23,
     "metadata": {},
     "output_type": "execute_result"
    },
    {
     "data": {
      "image/png": "[encoded data removed]",
      "text/plain": [
       "<Figure size 432x288 with 1 Axes>"
      ]
     },
     "metadata": {
      "needs_background": "light"
     },
     "output_type": "display_data"
    }
   ],
   "source": [
    "loss_per_epoch = model.history.history['loss']\n",
    "plt.plot(range(len(loss_per_epoch)),loss_per_epoch)"
   ]
  },
  {
   "cell_type": "code",
   "execution_count": 24,
   "metadata": {
    "id": "h6h-fell70_S"
   },
   "outputs": [],
   "source": [
    "last_train_batch = scaled_train[-n_input:]"
   ]
  },
  {
   "cell_type": "code",
   "execution_count": 25,
   "metadata": {
    "id": "cwwv8O-p79bN"
   },
   "outputs": [],
   "source": [
    "last_train_batch = last_train_batch.reshape((1, n_input, n_features))"
   ]
  },
  {
   "cell_type": "code",
   "execution_count": 26,
   "metadata": {
    "colab": {
     "base_uri": "https://localhost:8080/"
    },
    "id": "v-4WD4t78MpJ",
    "outputId": "6f5ab088-0933-41e7-cf6a-239dc4236d6d"
   },
   "outputs": [
    {
     "name": "stdout",
     "output_type": "stream",
     "text": [
      "1/1 [==============================] - 0s 82ms/step\n"
     ]
    },
    {
     "data": {
      "text/plain": [
       "array([[0.61738116]], dtype=float32)"
      ]
     },
     "execution_count": 26,
     "metadata": {},
     "output_type": "execute_result"
    }
   ],
   "source": [
    "model.predict(last_train_batch)"
   ]
  },
  {
   "cell_type": "code",
   "execution_count": 27,
   "metadata": {
    "colab": {
     "base_uri": "https://localhost:8080/"
    },
    "id": "ZbojFADE8StA",
    "outputId": "e708a2e2-ccf1-48e7-cace-a3b7a6202de1"
   },
   "outputs": [
    {
     "data": {
      "text/plain": [
       "array([0.67260579])"
      ]
     },
     "execution_count": 27,
     "metadata": {},
     "output_type": "execute_result"
    }
   ],
   "source": [
    "scaled_test[0]"
   ]
  },
  {
   "cell_type": "code",
   "execution_count": 28,
   "metadata": {
    "id": "_MP-5Wez8jbY"
   },
   "outputs": [
    {
     "name": "stdout",
     "output_type": "stream",
     "text": [
      "1/1 [==============================] - 0s 22ms/step\n",
      "1/1 [==============================] - 0s 13ms/step\n",
      "1/1 [==============================] - 0s 18ms/step\n",
      "1/1 [==============================] - 0s 18ms/step\n",
      "1/1 [==============================] - 0s 19ms/step\n",
      "1/1 [==============================] - 0s 17ms/step\n",
      "1/1 [==============================] - 0s 16ms/step\n",
      "1/1 [==============================] - 0s 14ms/step\n",
      "1/1 [==============================] - 0s 8ms/step\n",
      "1/1 [==============================] - 0s 14ms/step\n",
      "1/1 [==============================] - 0s 14ms/step\n",
      "1/1 [==============================] - 0s 18ms/step\n",
      "1/1 [==============================] - 0s 19ms/step\n",
      "1/1 [==============================] - 0s 17ms/step\n",
      "1/1 [==============================] - 0s 15ms/step\n",
      "1/1 [==============================] - 0s 17ms/step\n",
      "1/1 [==============================] - 0s 13ms/step\n",
      "1/1 [==============================] - 0s 16ms/step\n",
      "1/1 [==============================] - 0s 25ms/step\n",
      "1/1 [==============================] - 0s 11ms/step\n",
      "1/1 [==============================] - 0s 18ms/step\n",
      "1/1 [==============================] - 0s 8ms/step\n",
      "1/1 [==============================] - 0s 14ms/step\n",
      "1/1 [==============================] - 0s 15ms/step\n",
      "1/1 [==============================] - 0s 14ms/step\n",
      "1/1 [==============================] - 0s 16ms/step\n",
      "1/1 [==============================] - 0s 14ms/step\n",
      "1/1 [==============================] - 0s 13ms/step\n",
      "1/1 [==============================] - 0s 19ms/step\n",
      "1/1 [==============================] - 0s 18ms/step\n",
      "1/1 [==============================] - 0s 17ms/step\n",
      "1/1 [==============================] - 0s 14ms/step\n",
      "1/1 [==============================] - 0s 11ms/step\n",
      "1/1 [==============================] - 0s 15ms/step\n",
      "1/1 [==============================] - 0s 15ms/step\n",
      "1/1 [==============================] - 0s 18ms/step\n",
      "1/1 [==============================] - 0s 14ms/step\n",
      "1/1 [==============================] - 0s 18ms/step\n",
      "1/1 [==============================] - 0s 18ms/step\n",
      "1/1 [==============================] - 0s 20ms/step\n",
      "1/1 [==============================] - 0s 14ms/step\n",
      "1/1 [==============================] - 0s 16ms/step\n",
      "1/1 [==============================] - 0s 14ms/step\n",
      "1/1 [==============================] - 0s 14ms/step\n",
      "1/1 [==============================] - 0s 16ms/step\n",
      "1/1 [==============================] - 0s 14ms/step\n",
      "1/1 [==============================] - 0s 5ms/step\n",
      "1/1 [==============================] - 0s 14ms/step\n",
      "1/1 [==============================] - 0s 11ms/step\n",
      "1/1 [==============================] - 0s 16ms/step\n",
      "1/1 [==============================] - 0s 14ms/step\n",
      "1/1 [==============================] - 0s 19ms/step\n",
      "1/1 [==============================] - 0s 18ms/step\n",
      "1/1 [==============================] - 0s 15ms/step\n",
      "1/1 [==============================] - 0s 14ms/step\n",
      "1/1 [==============================] - 0s 16ms/step\n",
      "1/1 [==============================] - 0s 12ms/step\n",
      "1/1 [==============================] - 0s 11ms/step\n",
      "1/1 [==============================] - 0s 15ms/step\n",
      "1/1 [==============================] - 0s 14ms/step\n"
     ]
    }
   ],
   "source": [
    "test_predictions = []\n",
    "\n",
    "first_eval_batch = scaled_train[-n_input:]\n",
    "current_batch = first_eval_batch.reshape((1, n_input, n_features))\n",
    "\n",
    "for i in range(len(test)):\n",
    "    \n",
    "    # get the prediction value for the first batch\n",
    "    current_pred = model.predict(current_batch)[0]\n",
    "    \n",
    "    # append the prediction into the array\n",
    "    test_predictions.append(current_pred) \n",
    "    \n",
    "    # use the prediction to update the batch and remove the first value\n",
    "    current_batch = np.append(current_batch[:,1:,:],[[current_pred]],axis=1)"
   ]
  },
  {
   "cell_type": "code",
   "execution_count": 29,
   "metadata": {
    "colab": {
     "base_uri": "https://localhost:8080/"
    },
    "id": "_mhvFuEy8sB7",
    "outputId": "e65693ce-1c66-46b1-91e2-069e239ca984"
   },
   "outputs": [
    {
     "data": {
      "text/plain": [
       "[array([0.61738116], dtype=float32),\n",
       " array([0.6235019], dtype=float32),\n",
       " array([0.6047254], dtype=float32),\n",
       " array([0.6252893], dtype=float32),\n",
       " array([0.60859686], dtype=float32),\n",
       " array([0.6190815], dtype=float32),\n",
       " array([0.61764115], dtype=float32),\n",
       " array([0.60844445], dtype=float32),\n",
       " array([0.6158288], dtype=float32),\n",
       " array([0.59322363], dtype=float32),\n",
       " array([0.63399917], dtype=float32),\n",
       " array([0.61960447], dtype=float32),\n",
       " array([0.6147942], dtype=float32),\n",
       " array([0.6089806], dtype=float32),\n",
       " array([0.60309905], dtype=float32),\n",
       " array([0.6060894], dtype=float32),\n",
       " array([0.60157883], dtype=float32),\n",
       " array([0.60345715], dtype=float32),\n",
       " array([0.60067093], dtype=float32),\n",
       " array([0.5997635], dtype=float32),\n",
       " array([0.6011496], dtype=float32),\n",
       " array([0.59445345], dtype=float32),\n",
       " array([0.5989011], dtype=float32),\n",
       " array([0.5963047], dtype=float32),\n",
       " array([0.595887], dtype=float32),\n",
       " array([0.5937233], dtype=float32),\n",
       " array([0.59155124], dtype=float32),\n",
       " array([0.59093827], dtype=float32),\n",
       " array([0.5890495], dtype=float32),\n",
       " array([0.58880424], dtype=float32),\n",
       " array([0.5871618], dtype=float32),\n",
       " array([0.5861505], dtype=float32),\n",
       " array([0.58571637], dtype=float32),\n",
       " array([0.5837096], dtype=float32),\n",
       " array([0.58337486], dtype=float32),\n",
       " array([0.58200395], dtype=float32),\n",
       " array([0.5812604], dtype=float32),\n",
       " array([0.5800864], dtype=float32),\n",
       " array([0.5789256], dtype=float32),\n",
       " array([0.5779804], dtype=float32),\n",
       " array([0.5767881], dtype=float32),\n",
       " array([0.57600826], dtype=float32),\n",
       " array([0.57492423], dtype=float32),\n",
       " array([0.57396895], dtype=float32),\n",
       " array([0.57313764], dtype=float32),\n",
       " array([0.57206535], dtype=float32),\n",
       " array([0.57124645], dtype=float32),\n",
       " array([0.5702507], dtype=float32),\n",
       " array([0.56940836], dtype=float32),\n",
       " array([0.5684871], dtype=float32),\n",
       " array([0.56758964], dtype=float32),\n",
       " array([0.56672716], dtype=float32),\n",
       " array([0.5658159], dtype=float32),\n",
       " array([0.5650005], dtype=float32),\n",
       " array([0.56413555], dtype=float32),\n",
       " array([0.5633023], dtype=float32),\n",
       " array([0.5624947], dtype=float32),\n",
       " array([0.56166106], dtype=float32),\n",
       " array([0.56087476], dtype=float32),\n",
       " array([0.5600622], dtype=float32)]"
      ]
     },
     "execution_count": 29,
     "metadata": {},
     "output_type": "execute_result"
    }
   ],
   "source": [
    "test_predictions"
   ]
  },
  {
   "cell_type": "code",
   "execution_count": 30,
   "metadata": {
    "colab": {
     "base_uri": "https://localhost:8080/",
     "height": 228
    },
    "id": "YYSqV10E9hlO",
    "outputId": "fe8ed427-3d97-429e-9349-115ba1168bc0"
   },
   "outputs": [
    {
     "data": {
      "text/html": [
       "<div>\n",
       "<style scoped>\n",
       "    .dataframe tbody tr th:only-of-type {\n",
       "        vertical-align: middle;\n",
       "    }\n",
       "\n",
       "    .dataframe tbody tr th {\n",
       "        vertical-align: top;\n",
       "    }\n",
       "\n",
       "    .dataframe thead th {\n",
       "        text-align: right;\n",
       "    }\n",
       "</style>\n",
       "<table border=\"1\" class=\"dataframe\">\n",
       "  <thead>\n",
       "    <tr style=\"text-align: right;\">\n",
       "      <th></th>\n",
       "      <th>TempoMinutos</th>\n",
       "    </tr>\n",
       "    <tr>\n",
       "      <th>DiaInicio</th>\n",
       "      <th></th>\n",
       "    </tr>\n",
       "  </thead>\n",
       "  <tbody>\n",
       "    <tr>\n",
       "      <th>2021-10-31</th>\n",
       "      <td>430</td>\n",
       "    </tr>\n",
       "    <tr>\n",
       "      <th>2021-11-01</th>\n",
       "      <td>431</td>\n",
       "    </tr>\n",
       "    <tr>\n",
       "      <th>2021-11-02</th>\n",
       "      <td>404</td>\n",
       "    </tr>\n",
       "    <tr>\n",
       "      <th>2021-11-03</th>\n",
       "      <td>399</td>\n",
       "    </tr>\n",
       "    <tr>\n",
       "      <th>2021-11-04</th>\n",
       "      <td>536</td>\n",
       "    </tr>\n",
       "  </tbody>\n",
       "</table>\n",
       "</div>"
      ],
      "text/plain": [
       "            TempoMinutos\n",
       "DiaInicio               \n",
       "2021-10-31           430\n",
       "2021-11-01           431\n",
       "2021-11-02           404\n",
       "2021-11-03           399\n",
       "2021-11-04           536"
      ]
     },
     "execution_count": 30,
     "metadata": {},
     "output_type": "execute_result"
    }
   ],
   "source": [
    "test.head()"
   ]
  },
  {
   "cell_type": "code",
   "execution_count": 31,
   "metadata": {
    "id": "BHHzjNDK9EJZ"
   },
   "outputs": [
    {
     "data": {
      "text/plain": [
       "array([[405.20413882],\n",
       "       [407.95235169],\n",
       "       [399.52171379],\n",
       "       [408.7549051 ],\n",
       "       [401.25999075],\n",
       "       [405.96759224],\n",
       "       [405.32087678],\n",
       "       [401.19155908],\n",
       "       [404.50713664],\n",
       "       [394.35741049],\n",
       "       [412.66562682],\n",
       "       [406.20240629],\n",
       "       [404.04259342],\n",
       "       [401.43228763],\n",
       "       [398.79147261],\n",
       "       [400.13414651],\n",
       "       [398.10889542],\n",
       "       [398.95226163],\n",
       "       [397.70124924],\n",
       "       [397.29381716],\n",
       "       [397.91617876],\n",
       "       [394.90960085],\n",
       "       [396.90659076],\n",
       "       [395.74081689],\n",
       "       [395.55326539],\n",
       "       [394.58176041],\n",
       "       [393.60650867],\n",
       "       [393.33128327],\n",
       "       [392.48323363],\n",
       "       [392.373106  ],\n",
       "       [391.63563895],\n",
       "       [391.18158662],\n",
       "       [390.98664868],\n",
       "       [390.08560932],\n",
       "       [389.9353112 ],\n",
       "       [389.31977403],\n",
       "       [388.98591202],\n",
       "       [388.45879811],\n",
       "       [387.93759871],\n",
       "       [387.51319921],\n",
       "       [386.97786921],\n",
       "       [386.62770885],\n",
       "       [386.14097953],\n",
       "       [385.71205717],\n",
       "       [385.33880079],\n",
       "       [384.85734367],\n",
       "       [384.48965389],\n",
       "       [384.0425598 ],\n",
       "       [383.66435236],\n",
       "       [383.25071138],\n",
       "       [382.84774864],\n",
       "       [382.46049547],\n",
       "       [382.05135059],\n",
       "       [381.68521303],\n",
       "       [381.2968626 ],\n",
       "       [380.92272305],\n",
       "       [380.56011814],\n",
       "       [380.18581802],\n",
       "       [379.83276731],\n",
       "       [379.46794111]])"
      ]
     },
     "execution_count": 31,
     "metadata": {},
     "output_type": "execute_result"
    }
   ],
   "source": [
    "true_predictions = scaler.inverse_transform(test_predictions)\n",
    "true_predictions"
   ]
  },
  {
   "cell_type": "code",
   "execution_count": 32,
   "metadata": {
    "id": "0dsN45zf9I9u"
   },
   "outputs": [
    {
     "name": "stderr",
     "output_type": "stream",
     "text": [
      "C:\\Users\\Michael\\anaconda3\\lib\\site-packages\\ipykernel_launcher.py:1: SettingWithCopyWarning: \n",
      "A value is trying to be set on a copy of a slice from a DataFrame.\n",
      "Try using .loc[row_indexer,col_indexer] = value instead\n",
      "\n",
      "See the caveats in the documentation: https://pandas.pydata.org/pandas-docs/stable/user_guide/indexing.html#returning-a-view-versus-a-copy\n",
      "  \"\"\"Entry point for launching an IPython kernel.\n"
     ]
    }
   ],
   "source": [
    "test['Predictions'] = true_predictions"
   ]
  },
  {
   "cell_type": "code",
   "execution_count": 33,
   "metadata": {},
   "outputs": [
    {
     "data": {
      "text/html": [
       "<div>\n",
       "<style scoped>\n",
       "    .dataframe tbody tr th:only-of-type {\n",
       "        vertical-align: middle;\n",
       "    }\n",
       "\n",
       "    .dataframe tbody tr th {\n",
       "        vertical-align: top;\n",
       "    }\n",
       "\n",
       "    .dataframe thead th {\n",
       "        text-align: right;\n",
       "    }\n",
       "</style>\n",
       "<table border=\"1\" class=\"dataframe\">\n",
       "  <thead>\n",
       "    <tr style=\"text-align: right;\">\n",
       "      <th></th>\n",
       "      <th>TempoMinutos</th>\n",
       "      <th>Predictions</th>\n",
       "    </tr>\n",
       "    <tr>\n",
       "      <th>DiaInicio</th>\n",
       "      <th></th>\n",
       "      <th></th>\n",
       "    </tr>\n",
       "  </thead>\n",
       "  <tbody>\n",
       "    <tr>\n",
       "      <th>2021-10-31</th>\n",
       "      <td>430</td>\n",
       "      <td>405.204139</td>\n",
       "    </tr>\n",
       "    <tr>\n",
       "      <th>2021-11-01</th>\n",
       "      <td>431</td>\n",
       "      <td>407.952352</td>\n",
       "    </tr>\n",
       "    <tr>\n",
       "      <th>2021-11-02</th>\n",
       "      <td>404</td>\n",
       "      <td>399.521714</td>\n",
       "    </tr>\n",
       "    <tr>\n",
       "      <th>2021-11-03</th>\n",
       "      <td>399</td>\n",
       "      <td>408.754905</td>\n",
       "    </tr>\n",
       "    <tr>\n",
       "      <th>2021-11-04</th>\n",
       "      <td>536</td>\n",
       "      <td>401.259991</td>\n",
       "    </tr>\n",
       "    <tr>\n",
       "      <th>2021-11-05</th>\n",
       "      <td>417</td>\n",
       "      <td>405.967592</td>\n",
       "    </tr>\n",
       "    <tr>\n",
       "      <th>2021-11-06</th>\n",
       "      <td>482</td>\n",
       "      <td>405.320877</td>\n",
       "    </tr>\n",
       "    <tr>\n",
       "      <th>2021-11-07</th>\n",
       "      <td>470</td>\n",
       "      <td>401.191559</td>\n",
       "    </tr>\n",
       "    <tr>\n",
       "      <th>2021-11-08</th>\n",
       "      <td>559</td>\n",
       "      <td>404.507137</td>\n",
       "    </tr>\n",
       "    <tr>\n",
       "      <th>2021-11-09</th>\n",
       "      <td>491</td>\n",
       "      <td>394.357410</td>\n",
       "    </tr>\n",
       "    <tr>\n",
       "      <th>2021-11-10</th>\n",
       "      <td>409</td>\n",
       "      <td>412.665627</td>\n",
       "    </tr>\n",
       "    <tr>\n",
       "      <th>2021-11-11</th>\n",
       "      <td>591</td>\n",
       "      <td>406.202406</td>\n",
       "    </tr>\n",
       "    <tr>\n",
       "      <th>2021-11-12</th>\n",
       "      <td>465</td>\n",
       "      <td>404.042593</td>\n",
       "    </tr>\n",
       "    <tr>\n",
       "      <th>2021-11-13</th>\n",
       "      <td>500</td>\n",
       "      <td>401.432288</td>\n",
       "    </tr>\n",
       "    <tr>\n",
       "      <th>2021-11-14</th>\n",
       "      <td>510</td>\n",
       "      <td>398.791473</td>\n",
       "    </tr>\n",
       "    <tr>\n",
       "      <th>2021-11-15</th>\n",
       "      <td>515</td>\n",
       "      <td>400.134147</td>\n",
       "    </tr>\n",
       "    <tr>\n",
       "      <th>2021-11-16</th>\n",
       "      <td>511</td>\n",
       "      <td>398.108895</td>\n",
       "    </tr>\n",
       "    <tr>\n",
       "      <th>2021-11-17</th>\n",
       "      <td>470</td>\n",
       "      <td>398.952262</td>\n",
       "    </tr>\n",
       "    <tr>\n",
       "      <th>2021-11-18</th>\n",
       "      <td>510</td>\n",
       "      <td>397.701249</td>\n",
       "    </tr>\n",
       "    <tr>\n",
       "      <th>2021-11-19</th>\n",
       "      <td>468</td>\n",
       "      <td>397.293817</td>\n",
       "    </tr>\n",
       "  </tbody>\n",
       "</table>\n",
       "</div>"
      ],
      "text/plain": [
       "            TempoMinutos  Predictions\n",
       "DiaInicio                            \n",
       "2021-10-31           430   405.204139\n",
       "2021-11-01           431   407.952352\n",
       "2021-11-02           404   399.521714\n",
       "2021-11-03           399   408.754905\n",
       "2021-11-04           536   401.259991\n",
       "2021-11-05           417   405.967592\n",
       "2021-11-06           482   405.320877\n",
       "2021-11-07           470   401.191559\n",
       "2021-11-08           559   404.507137\n",
       "2021-11-09           491   394.357410\n",
       "2021-11-10           409   412.665627\n",
       "2021-11-11           591   406.202406\n",
       "2021-11-12           465   404.042593\n",
       "2021-11-13           500   401.432288\n",
       "2021-11-14           510   398.791473\n",
       "2021-11-15           515   400.134147\n",
       "2021-11-16           511   398.108895\n",
       "2021-11-17           470   398.952262\n",
       "2021-11-18           510   397.701249\n",
       "2021-11-19           468   397.293817"
      ]
     },
     "execution_count": 33,
     "metadata": {},
     "output_type": "execute_result"
    }
   ],
   "source": [
    "test.head(20)"
   ]
  },
  {
   "cell_type": "code",
   "execution_count": 34,
   "metadata": {
    "colab": {
     "base_uri": "https://localhost:8080/",
     "height": 366
    },
    "id": "xJ7sI5xh9Lb0",
    "outputId": "6aeaec0b-9c02-4d87-ca51-987048dae0ba"
   },
   "outputs": [
    {
     "data": {
      "text/plain": [
       "<matplotlib.axes._subplots.AxesSubplot at 0x24a93873508>"
      ]
     },
     "execution_count": 34,
     "metadata": {},
     "output_type": "execute_result"
    },
    {
     "data": {
      "image/png": "[encoded data removed]",
      "text/plain": [
       "<Figure size 1008x360 with 1 Axes>"
      ]
     },
     "metadata": {
      "needs_background": "light"
     },
     "output_type": "display_data"
    }
   ],
   "source": [
    "test.plot(figsize=(14,5))"
   ]
  },
  {
   "cell_type": "code",
   "execution_count": 35,
   "metadata": {
    "colab": {
     "base_uri": "https://localhost:8080/"
    },
    "id": "OCsYjzge9OVe",
    "outputId": "4771bf0b-a885-4e3f-d16e-b5b9bd255cc2"
   },
   "outputs": [
    {
     "name": "stdout",
     "output_type": "stream",
     "text": [
      "103.19814453573\n"
     ]
    }
   ],
   "source": [
    "from sklearn.metrics import mean_squared_error\n",
    "from math import sqrt\n",
    "rmse=sqrt(mean_squared_error(test[coluna],test['Predictions']))\n",
    "print(rmse)"
   ]
  },
  {
   "cell_type": "code",
   "execution_count": 36,
   "metadata": {},
   "outputs": [
    {
     "name": "stderr",
     "output_type": "stream",
     "text": [
      "C:\\Users\\Michael\\anaconda3\\lib\\site-packages\\ipykernel_launcher.py:1: SettingWithCopyWarning: \n",
      "A value is trying to be set on a copy of a slice from a DataFrame.\n",
      "Try using .loc[row_indexer,col_indexer] = value instead\n",
      "\n",
      "See the caveats in the documentation: https://pandas.pydata.org/pandas-docs/stable/user_guide/indexing.html#returning-a-view-versus-a-copy\n",
      "  \"\"\"Entry point for launching an IPython kernel.\n"
     ]
    },
    {
     "data": {
      "text/html": [
       "<div>\n",
       "<style scoped>\n",
       "    .dataframe tbody tr th:only-of-type {\n",
       "        vertical-align: middle;\n",
       "    }\n",
       "\n",
       "    .dataframe tbody tr th {\n",
       "        vertical-align: top;\n",
       "    }\n",
       "\n",
       "    .dataframe thead th {\n",
       "        text-align: right;\n",
       "    }\n",
       "</style>\n",
       "<table border=\"1\" class=\"dataframe\">\n",
       "  <thead>\n",
       "    <tr style=\"text-align: right;\">\n",
       "      <th></th>\n",
       "      <th>TempoMinutos</th>\n",
       "      <th>Predictions</th>\n",
       "      <th>Diferenca</th>\n",
       "    </tr>\n",
       "    <tr>\n",
       "      <th>DiaInicio</th>\n",
       "      <th></th>\n",
       "      <th></th>\n",
       "      <th></th>\n",
       "    </tr>\n",
       "  </thead>\n",
       "  <tbody>\n",
       "    <tr>\n",
       "      <th>2021-10-31</th>\n",
       "      <td>430</td>\n",
       "      <td>405.204139</td>\n",
       "      <td>24.795861</td>\n",
       "    </tr>\n",
       "    <tr>\n",
       "      <th>2021-11-01</th>\n",
       "      <td>431</td>\n",
       "      <td>407.952352</td>\n",
       "      <td>23.047648</td>\n",
       "    </tr>\n",
       "    <tr>\n",
       "      <th>2021-11-02</th>\n",
       "      <td>404</td>\n",
       "      <td>399.521714</td>\n",
       "      <td>4.478286</td>\n",
       "    </tr>\n",
       "    <tr>\n",
       "      <th>2021-11-03</th>\n",
       "      <td>399</td>\n",
       "      <td>408.754905</td>\n",
       "      <td>9.754905</td>\n",
       "    </tr>\n",
       "    <tr>\n",
       "      <th>2021-11-04</th>\n",
       "      <td>536</td>\n",
       "      <td>401.259991</td>\n",
       "      <td>134.740009</td>\n",
       "    </tr>\n",
       "    <tr>\n",
       "      <th>2021-11-05</th>\n",
       "      <td>417</td>\n",
       "      <td>405.967592</td>\n",
       "      <td>11.032408</td>\n",
       "    </tr>\n",
       "    <tr>\n",
       "      <th>2021-11-06</th>\n",
       "      <td>482</td>\n",
       "      <td>405.320877</td>\n",
       "      <td>76.679123</td>\n",
       "    </tr>\n",
       "    <tr>\n",
       "      <th>2021-11-07</th>\n",
       "      <td>470</td>\n",
       "      <td>401.191559</td>\n",
       "      <td>68.808441</td>\n",
       "    </tr>\n",
       "    <tr>\n",
       "      <th>2021-11-08</th>\n",
       "      <td>559</td>\n",
       "      <td>404.507137</td>\n",
       "      <td>154.492863</td>\n",
       "    </tr>\n",
       "    <tr>\n",
       "      <th>2021-11-09</th>\n",
       "      <td>491</td>\n",
       "      <td>394.357410</td>\n",
       "      <td>96.642590</td>\n",
       "    </tr>\n",
       "    <tr>\n",
       "      <th>2021-11-10</th>\n",
       "      <td>409</td>\n",
       "      <td>412.665627</td>\n",
       "      <td>3.665627</td>\n",
       "    </tr>\n",
       "    <tr>\n",
       "      <th>2021-11-11</th>\n",
       "      <td>591</td>\n",
       "      <td>406.202406</td>\n",
       "      <td>184.797594</td>\n",
       "    </tr>\n",
       "    <tr>\n",
       "      <th>2021-11-12</th>\n",
       "      <td>465</td>\n",
       "      <td>404.042593</td>\n",
       "      <td>60.957407</td>\n",
       "    </tr>\n",
       "    <tr>\n",
       "      <th>2021-11-13</th>\n",
       "      <td>500</td>\n",
       "      <td>401.432288</td>\n",
       "      <td>98.567712</td>\n",
       "    </tr>\n",
       "  </tbody>\n",
       "</table>\n",
       "</div>"
      ],
      "text/plain": [
       "            TempoMinutos  Predictions   Diferenca\n",
       "DiaInicio                                        \n",
       "2021-10-31           430   405.204139   24.795861\n",
       "2021-11-01           431   407.952352   23.047648\n",
       "2021-11-02           404   399.521714    4.478286\n",
       "2021-11-03           399   408.754905    9.754905\n",
       "2021-11-04           536   401.259991  134.740009\n",
       "2021-11-05           417   405.967592   11.032408\n",
       "2021-11-06           482   405.320877   76.679123\n",
       "2021-11-07           470   401.191559   68.808441\n",
       "2021-11-08           559   404.507137  154.492863\n",
       "2021-11-09           491   394.357410   96.642590\n",
       "2021-11-10           409   412.665627    3.665627\n",
       "2021-11-11           591   406.202406  184.797594\n",
       "2021-11-12           465   404.042593   60.957407\n",
       "2021-11-13           500   401.432288   98.567712"
      ]
     },
     "execution_count": 36,
     "metadata": {},
     "output_type": "execute_result"
    }
   ],
   "source": [
    "test['Diferenca'] = abs(test[coluna]- test['Predictions']) # módulo da diferença\n",
    "test.head(n_input)"
   ]
  },
  {
   "cell_type": "code",
   "execution_count": 37,
   "metadata": {},
   "outputs": [
    {
     "data": {
      "text/plain": [
       "'\\nResumo:\\na) Tempo de duração da Rotina 04 \\n\\n\\n\\n'"
      ]
     },
     "execution_count": 37,
     "metadata": {},
     "output_type": "execute_result"
    }
   ],
   "source": [
    "'''\n",
    "Resumo: CONVOLUCIONAL\n",
    "\n",
    "a) Tempo de duração da Rotina 04 - Dados NORMALIZADOS\n",
    "\n",
    "processo = 'Rotina_04'\n",
    "coluna = 'TempoMinutos'\n",
    "\n",
    "3/4    (75% / 25%)\tARIMA(2,1,0)(0,1,1)[12] \tRMSE: 62,27\n",
    "\n",
    "-----------------------------------------------------------------------------\n",
    "\n",
    "n_previsoes=15\n",
    "n_input = 7\n",
    "model.add(Conv1D(80, kernel_size=2))\n",
    "model.add(Dense(60, 'relu'))\n",
    "model.add(Dense(60, 'relu'))\n",
    "RMSE:  49.73331390756226\n",
    "\n",
    "n_previsoes=30\n",
    "n_input = 7\n",
    "model.add(Conv1D(80, kernel_size=2))\n",
    "model.add(Dense(60, 'relu'))\n",
    "model.add(Dense(60, 'relu'))\n",
    "RMSE:  58.653446663609365\n",
    "\n",
    "n_previsoes=60\n",
    "n_input = 7\n",
    "model.add(Conv1D(80, kernel_size=2))\n",
    "model.add(Dense(60, 'relu'))\n",
    "model.add(Dense(60, 'relu'))\n",
    "RMSE:  108.510384898156\n",
    "\n",
    "n_previsoes=120\n",
    "n_input = 7\n",
    "model.add(Conv1D(80, kernel_size=2))\n",
    "model.add(Dense(60, 'relu'))\n",
    "model.add(Dense(60, 'relu'))\n",
    "RMSE:  132.64781242937386\n",
    "\n",
    "-----------------------------------------------------------------------------\n",
    "\n",
    "n_previsoes=15\n",
    "n_input = 14\n",
    "model.add(Conv1D(80, kernel_size=2))\n",
    "model.add(Dense(60, 'relu'))\n",
    "model.add(Dense(60, 'relu'))\n",
    "RMSE: 70.39024498893036\n",
    "\n",
    "n_previsoes=30\n",
    "n_input = 14\n",
    "model.add(Conv1D(80, kernel_size=2))\n",
    "model.add(Dense(60, 'relu'))\n",
    "model.add(Dense(60, 'relu'))\n",
    "RMSE: 77.07610381858937\n",
    "\n",
    "n_previsoes=60\n",
    "n_input = 14\n",
    "model.add(Conv1D(80, kernel_size=2))\n",
    "model.add(Dense(60, 'relu'))\n",
    "model.add(Dense(60, 'relu'))\n",
    "RMSE: 76.99194697273718\n",
    "\n",
    "n_previsoes=120\n",
    "n_input = 14\n",
    "model.add(Conv1D(80, kernel_size=2))\n",
    "model.add(Dense(60, 'relu'))\n",
    "model.add(Dense(60, 'relu'))\n",
    "RMSE: 104.33134627008671\n",
    "\n",
    "-----------------------------------------------------------------------------\n",
    "\n",
    "n_previsoes=15\n",
    "n_input = 14\n",
    "model.add(Conv1D(60, kernel_size=2))\n",
    "model.add(Dense(50, 'relu'))\n",
    "model.add(Dense(50, 'relu'))\n",
    "RMSE: 62.65368109557033\n",
    "\n",
    "n_previsoes=30\n",
    "n_input = 14\n",
    "model.add(Conv1D(60, kernel_size=2))\n",
    "model.add(Dense(50, 'relu'))\n",
    "model.add(Dense(50, 'relu'))\n",
    "RMSE:  54.27488440415736\n",
    "\n",
    "n_previsoes=60\n",
    "n_input = 14\n",
    "model.add(Conv1D(60, kernel_size=2))\n",
    "model.add(Dense(50, 'relu'))\n",
    "model.add(Dense(50, 'relu'))\n",
    "RMSE:  75.36946751819802\n",
    "\n",
    "n_previsoes=120\n",
    "n_input = 14\n",
    "model.add(Conv1D(60, kernel_size=2))\n",
    "model.add(Dense(50, 'relu'))\n",
    "model.add(Dense(50, 'relu'))\n",
    "RMSE:  81.91943018225693\n",
    "\n",
    "-----------------------------------------------------------------------------\n",
    "\n",
    "\n",
    "n_previsoes=15\n",
    "n_input = 14\n",
    "model.add(Conv1D(50, kernel_size=2))\n",
    "model.add(Dense(40, 'relu'))\n",
    "model.add(Dense(40, 'relu'))\n",
    "RMSE:  71.07719436756196\n",
    "\n",
    "n_previsoes=30\n",
    "n_input = 14\n",
    "model.add(Conv1D(50, kernel_size=2))\n",
    "model.add(Dense(40, 'relu'))\n",
    "model.add(Dense(40, 'relu'))\n",
    "RMSE:  57.74449617717278\n",
    "\n",
    "n_previsoes=60\n",
    "n_input = 14\n",
    "model.add(Conv1D(50, kernel_size=2))\n",
    "model.add(Dense(40, 'relu'))\n",
    "model.add(Dense(40, 'relu'))\n",
    "RMSE:   103.19814453573\n",
    "\n",
    "n_previsoes=120\n",
    "n_input = 14\n",
    "model.add(Conv1D(50, kernel_size=2))\n",
    "model.add(Dense(40, 'relu'))\n",
    "model.add(Dense(40, 'relu'))\n",
    "RMSE:  128.8712535728531\n",
    "\n",
    "-----------------------------------------------------------------------------\n",
    "\n",
    "\n",
    "\n",
    "'''"
   ]
  }
 ],
 "metadata": {
  "colab": {
   "collapsed_sections": [],
   "name": "RNN_Youtube.ipynb",
   "provenance": []
  },
  "kernelspec": {
   "display_name": "Python 3",
   "language": "python",
   "name": "python3"
  },
  "language_info": {
   "codemirror_mode": {
    "name": "ipython",
    "version": 3
   },
   "file_extension": ".py",
   "mimetype": "text/x-python",
   "name": "python",
   "nbconvert_exporter": "python",
   "pygments_lexer": "ipython3",
   "version": "3.7.6"
  }
 },
 "nbformat": 4,
 "nbformat_minor": 1
}

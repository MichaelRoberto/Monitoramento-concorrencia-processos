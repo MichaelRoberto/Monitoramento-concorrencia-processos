{
 "cells": [
  {
   "cell_type": "code",
   "execution_count": 1,
   "metadata": {
    "id": "nRSlxT4q5EHJ"
   },
   "outputs": [],
   "source": [
    "# a) Tempo de duração da Rotina 04    -  TempoMinutos --> TESTES EFETUADOS PARA ESTE CENÁRIO\n",
    "# b) Início de execução da Rotina 01  -  TempoMinutosInicioExecucao\n",
    "# c) Tempo de duração da Rotina 01    -  TempoMinutos\n"
   ]
  },
  {
   "cell_type": "code",
   "execution_count": 2,
   "metadata": {},
   "outputs": [],
   "source": [
    "import pandas as pd\n",
    "import numpy as np\n",
    "import matplotlib.pyplot as plt\n",
    "from sklearn.metrics import mean_squared_error as mse"
   ]
  },
  {
   "cell_type": "code",
   "execution_count": 3,
   "metadata": {},
   "outputs": [],
   "source": [
    "# Define Pesquisa\n",
    "processo = 'Rotina_04'\n",
    "coluna = 'TempoMinutos'"
   ]
  },
  {
   "cell_type": "code",
   "execution_count": 4,
   "metadata": {
    "id": "2fRF6mEW5QbK"
   },
   "outputs": [
    {
     "data": {
      "text/html": [
       "<div>\n",
       "<style scoped>\n",
       "    .dataframe tbody tr th:only-of-type {\n",
       "        vertical-align: middle;\n",
       "    }\n",
       "\n",
       "    .dataframe tbody tr th {\n",
       "        vertical-align: top;\n",
       "    }\n",
       "\n",
       "    .dataframe thead th {\n",
       "        text-align: right;\n",
       "    }\n",
       "</style>\n",
       "<table border=\"1\" class=\"dataframe\">\n",
       "  <thead>\n",
       "    <tr style=\"text-align: right;\">\n",
       "      <th></th>\n",
       "      <th>DiaInicio</th>\n",
       "      <th>DtHoraInicio</th>\n",
       "      <th>DtHoraFim</th>\n",
       "      <th>Processo</th>\n",
       "      <th>TempoMinutos</th>\n",
       "      <th>TempoMinutosInicioExecucao</th>\n",
       "    </tr>\n",
       "  </thead>\n",
       "  <tbody>\n",
       "    <tr>\n",
       "      <th>1077</th>\n",
       "      <td>2021-01-05</td>\n",
       "      <td>2021-01-05 02:44:00</td>\n",
       "      <td>2021-01-05 06:30:00</td>\n",
       "      <td>Rotina_04</td>\n",
       "      <td>226</td>\n",
       "      <td>164.0</td>\n",
       "    </tr>\n",
       "    <tr>\n",
       "      <th>1078</th>\n",
       "      <td>2021-01-06</td>\n",
       "      <td>2021-01-06 02:16:00</td>\n",
       "      <td>2021-01-06 06:52:00</td>\n",
       "      <td>Rotina_04</td>\n",
       "      <td>276</td>\n",
       "      <td>136.0</td>\n",
       "    </tr>\n",
       "    <tr>\n",
       "      <th>1079</th>\n",
       "      <td>2021-01-07</td>\n",
       "      <td>2021-01-07 04:27:00</td>\n",
       "      <td>2021-01-07 11:11:00</td>\n",
       "      <td>Rotina_04</td>\n",
       "      <td>404</td>\n",
       "      <td>267.0</td>\n",
       "    </tr>\n",
       "    <tr>\n",
       "      <th>1080</th>\n",
       "      <td>2021-01-08</td>\n",
       "      <td>2021-01-08 04:06:00</td>\n",
       "      <td>2021-01-08 10:44:00</td>\n",
       "      <td>Rotina_04</td>\n",
       "      <td>398</td>\n",
       "      <td>246.0</td>\n",
       "    </tr>\n",
       "    <tr>\n",
       "      <th>1081</th>\n",
       "      <td>2021-01-09</td>\n",
       "      <td>2021-01-09 02:06:00</td>\n",
       "      <td>2021-01-09 06:15:00</td>\n",
       "      <td>Rotina_04</td>\n",
       "      <td>249</td>\n",
       "      <td>126.0</td>\n",
       "    </tr>\n",
       "  </tbody>\n",
       "</table>\n",
       "</div>"
      ],
      "text/plain": [
       "      DiaInicio        DtHoraInicio           DtHoraFim   Processo  \\\n",
       "1077 2021-01-05 2021-01-05 02:44:00 2021-01-05 06:30:00  Rotina_04   \n",
       "1078 2021-01-06 2021-01-06 02:16:00 2021-01-06 06:52:00  Rotina_04   \n",
       "1079 2021-01-07 2021-01-07 04:27:00 2021-01-07 11:11:00  Rotina_04   \n",
       "1080 2021-01-08 2021-01-08 04:06:00 2021-01-08 10:44:00  Rotina_04   \n",
       "1081 2021-01-09 2021-01-09 02:06:00 2021-01-09 06:15:00  Rotina_04   \n",
       "\n",
       "      TempoMinutos  TempoMinutosInicioExecucao  \n",
       "1077           226                       164.0  \n",
       "1078           276                       136.0  \n",
       "1079           404                       267.0  \n",
       "1080           398                       246.0  \n",
       "1081           249                       126.0  "
      ]
     },
     "execution_count": 4,
     "metadata": {},
     "output_type": "execute_result"
    }
   ],
   "source": [
    "# Efetua carga da base\n",
    "_df = pd.read_excel('DataFrame_Processos_Percentual_Base_CompletaAjusteOutLiers.xlsx')\n",
    "_df = _df.loc[_df['Processo']==processo]\n",
    "_df.head()"
   ]
  },
  {
   "cell_type": "code",
   "execution_count": 5,
   "metadata": {},
   "outputs": [],
   "source": [
    "# Cria Dataframe somente com as colunas que interessam\n",
    "df = pd.DataFrame(_df, columns = ['DiaInicio', coluna])\n",
    "df.DiaInicio = pd.to_datetime(df.DiaInicio)\n",
    "df.set_index('DiaInicio', inplace=True)"
   ]
  },
  {
   "cell_type": "code",
   "execution_count": 6,
   "metadata": {},
   "outputs": [
    {
     "data": {
      "text/html": [
       "<div>\n",
       "<style scoped>\n",
       "    .dataframe tbody tr th:only-of-type {\n",
       "        vertical-align: middle;\n",
       "    }\n",
       "\n",
       "    .dataframe tbody tr th {\n",
       "        vertical-align: top;\n",
       "    }\n",
       "\n",
       "    .dataframe thead th {\n",
       "        text-align: right;\n",
       "    }\n",
       "</style>\n",
       "<table border=\"1\" class=\"dataframe\">\n",
       "  <thead>\n",
       "    <tr style=\"text-align: right;\">\n",
       "      <th></th>\n",
       "      <th>TempoMinutos</th>\n",
       "    </tr>\n",
       "    <tr>\n",
       "      <th>DiaInicio</th>\n",
       "      <th></th>\n",
       "    </tr>\n",
       "  </thead>\n",
       "  <tbody>\n",
       "    <tr>\n",
       "      <th>2021-01-05</th>\n",
       "      <td>226</td>\n",
       "    </tr>\n",
       "    <tr>\n",
       "      <th>2021-01-06</th>\n",
       "      <td>276</td>\n",
       "    </tr>\n",
       "    <tr>\n",
       "      <th>2021-01-07</th>\n",
       "      <td>404</td>\n",
       "    </tr>\n",
       "    <tr>\n",
       "      <th>2021-01-08</th>\n",
       "      <td>398</td>\n",
       "    </tr>\n",
       "    <tr>\n",
       "      <th>2021-01-09</th>\n",
       "      <td>249</td>\n",
       "    </tr>\n",
       "  </tbody>\n",
       "</table>\n",
       "</div>"
      ],
      "text/plain": [
       "            TempoMinutos\n",
       "DiaInicio               \n",
       "2021-01-05           226\n",
       "2021-01-06           276\n",
       "2021-01-07           404\n",
       "2021-01-08           398\n",
       "2021-01-09           249"
      ]
     },
     "execution_count": 6,
     "metadata": {},
     "output_type": "execute_result"
    }
   ],
   "source": [
    "df.head()"
   ]
  },
  {
   "cell_type": "code",
   "execution_count": 7,
   "metadata": {},
   "outputs": [
    {
     "data": {
      "text/plain": [
       "<matplotlib.axes._subplots.AxesSubplot at 0x2a97df0f548>"
      ]
     },
     "execution_count": 7,
     "metadata": {},
     "output_type": "execute_result"
    },
    {
     "data": {
      "image/png": "[encoded data removed]",
      "text/plain": [
       "<Figure size 864x432 with 1 Axes>"
      ]
     },
     "metadata": {
      "needs_background": "light"
     },
     "output_type": "display_data"
    }
   ],
   "source": [
    "df.plot(figsize=(12,6))"
   ]
  },
  {
   "cell_type": "code",
   "execution_count": 8,
   "metadata": {
    "id": "jcew1g4f6L_X"
   },
   "outputs": [],
   "source": [
    "from statsmodels.tsa.seasonal import seasonal_decompose"
   ]
  },
  {
   "cell_type": "code",
   "execution_count": 9,
   "metadata": {
    "colab": {
     "base_uri": "https://localhost:8080/",
     "height": 297
    },
    "id": "zfTZaeEH6Wpn",
    "outputId": "3f6120dd-ff89-4c21-bce1-32dc4d01b02c"
   },
   "outputs": [
    {
     "data": {
      "image/png": "[encoded data removed]",
      "text/plain": [
       "<Figure size 432x288 with 4 Axes>"
      ]
     },
     "metadata": {
      "needs_background": "light"
     },
     "output_type": "display_data"
    }
   ],
   "source": [
    "results = seasonal_decompose(df[coluna])\n",
    "results.plot();"
   ]
  },
  {
   "cell_type": "code",
   "execution_count": 10,
   "metadata": {
    "colab": {
     "base_uri": "https://localhost:8080/"
    },
    "id": "IzkqCHh_6lfn",
    "outputId": "79c7a98c-acaf-4ad7-a807-70898e3b83e1"
   },
   "outputs": [
    {
     "data": {
      "text/plain": [
       "359"
      ]
     },
     "execution_count": 10,
     "metadata": {},
     "output_type": "execute_result"
    }
   ],
   "source": [
    "tamDF = len(df)\n",
    "tamDF"
   ]
  },
  {
   "cell_type": "code",
   "execution_count": 11,
   "metadata": {
    "id": "1NoWcZEK6rPb"
   },
   "outputs": [],
   "source": [
    "# 359-12 = 347\n",
    "n_previsoes=120\n",
    "tamTreino = tamDF - n_previsoes\n",
    "train = df.iloc[:tamTreino]\n",
    "test = df.iloc[tamTreino:]"
   ]
  },
  {
   "cell_type": "code",
   "execution_count": 12,
   "metadata": {
    "id": "dtAgIrE66u6x"
   },
   "outputs": [],
   "source": [
    "from sklearn.preprocessing import MinMaxScaler\n",
    "scaler = MinMaxScaler()"
   ]
  },
  {
   "cell_type": "code",
   "execution_count": 13,
   "metadata": {
    "colab": {
     "base_uri": "https://localhost:8080/"
    },
    "id": "UDQODrt4D5NK",
    "outputId": "add8aaaf-9916-4484-af9c-3f5967dad1cd"
   },
   "outputs": [
    {
     "data": {
      "text/plain": [
       "(            TempoMinutos\n",
       " DiaInicio               \n",
       " 2021-01-05           226\n",
       " 2021-01-06           276\n",
       " 2021-01-07           404\n",
       " 2021-01-08           398\n",
       " 2021-01-09           249,\n",
       "             TempoMinutos\n",
       " DiaInicio               \n",
       " 2021-12-25           442\n",
       " 2021-12-26           352\n",
       " 2021-12-27           408\n",
       " 2021-12-28           482\n",
       " 2021-12-29           401)"
      ]
     },
     "execution_count": 13,
     "metadata": {},
     "output_type": "execute_result"
    }
   ],
   "source": [
    "df.head(),df.tail()"
   ]
  },
  {
   "cell_type": "code",
   "execution_count": 14,
   "metadata": {
    "id": "ijgmVYgC6zBz"
   },
   "outputs": [],
   "source": [
    "scaler.fit(train)\n",
    "scaled_train = scaler.transform(train)\n",
    "scaled_test = scaler.transform(test)"
   ]
  },
  {
   "cell_type": "code",
   "execution_count": 15,
   "metadata": {
    "colab": {
     "base_uri": "https://localhost:8080/"
    },
    "id": "BrdKbJ3g6-Et",
    "outputId": "ec956dda-aab6-433c-d846-523769fa65e7"
   },
   "outputs": [
    {
     "data": {
      "text/plain": [
       "array([[0.24137931],\n",
       "       [0.36453202],\n",
       "       [0.67980296],\n",
       "       [0.66502463],\n",
       "       [0.29802956]])"
      ]
     },
     "execution_count": 15,
     "metadata": {},
     "output_type": "execute_result"
    }
   ],
   "source": [
    "scaled_train[:5]"
   ]
  },
  {
   "cell_type": "code",
   "execution_count": 16,
   "metadata": {
    "id": "0xryZ7rR62y5"
   },
   "outputs": [],
   "source": [
    "from keras.preprocessing.sequence import TimeseriesGenerator"
   ]
  },
  {
   "cell_type": "code",
   "execution_count": 17,
   "metadata": {
    "id": "jm-T4H4I7UaV"
   },
   "outputs": [],
   "source": [
    "# n_input - qtdade de períodos a serem agrupados(previstos)\n",
    "n_features = 1\n",
    "n_input = 14\n",
    "generator = TimeseriesGenerator(scaled_train, scaled_train, length=n_input, batch_size=1)"
   ]
  },
  {
   "cell_type": "code",
   "execution_count": 18,
   "metadata": {},
   "outputs": [
    {
     "name": "stdout",
     "output_type": "stream",
     "text": [
      "Given the Array: \n",
      "[0.24137931 0.36453202 0.67980296 0.66502463 0.29802956 0.4729064\n",
      " 0.49753695 0.83990148 0.31034483 0.58374384 0.40394089 0.45073892\n",
      " 0.43596059 0.46059113]\n",
      "Predict this y: \n",
      " [[0.37192118]]\n"
     ]
    }
   ],
   "source": [
    "X,y = generator[0]\n",
    "print(f'Given the Array: \\n{X.flatten()}')\n",
    "print(f'Predict this y: \\n {y}')"
   ]
  },
  {
   "cell_type": "code",
   "execution_count": 19,
   "metadata": {},
   "outputs": [
    {
     "data": {
      "text/plain": [
       "(1, 14, 1)"
      ]
     },
     "execution_count": 19,
     "metadata": {},
     "output_type": "execute_result"
    }
   ],
   "source": [
    "X.shape"
   ]
  },
  {
   "cell_type": "code",
   "execution_count": 20,
   "metadata": {
    "id": "bzIs_l_k7Zqg"
   },
   "outputs": [],
   "source": [
    "from keras.models import Sequential\n",
    "from keras.layers import Dense\n",
    "from keras.layers import LSTM"
   ]
  },
  {
   "cell_type": "code",
   "execution_count": 21,
   "metadata": {},
   "outputs": [],
   "source": [
    "from tensorflow.keras.models import Sequential\n",
    "from tensorflow.keras.layers import *\n",
    "from tensorflow.keras.callbacks import ModelCheckpoint\n",
    "from tensorflow.keras.losses import MeanSquaredError\n",
    "from tensorflow.keras.metrics import RootMeanSquaredError\n",
    "from tensorflow.keras.optimizers import Adam"
   ]
  },
  {
   "cell_type": "code",
   "execution_count": 22,
   "metadata": {
    "id": "eJa-wFQf7jw6"
   },
   "outputs": [],
   "source": [
    "# GRU - REDE RECORRENTE\n",
    "# Redes Neural GRU -  Gated Recurrent Unit\n",
    "# Muito semelhante a LSTM\n",
    "\n",
    "model = Sequential()\n",
    "model.add(InputLayer((n_input, 1))) # n_tam_agrupamento --> TAMANHO DA JANELA \n",
    "model.add(GRU(50))\n",
    "model.add(Dense(40, 'relu'))\n",
    "model.add(Dense(40, 'relu'))\n",
    "model.add(Dense(1, 'linear'))\n",
    "model.compile(loss=MeanSquaredError(), optimizer=Adam(learning_rate=0.00001), metrics=[RootMeanSquaredError()])"
   ]
  },
  {
   "cell_type": "code",
   "execution_count": 23,
   "metadata": {
    "colab": {
     "base_uri": "https://localhost:8080/"
    },
    "id": "7i4ucUNv7lbk",
    "outputId": "7f66fb4d-f3af-4d9c-ae3a-9eb97a722ea6"
   },
   "outputs": [
    {
     "name": "stdout",
     "output_type": "stream",
     "text": [
      "Model: \"sequential\"\n",
      "_________________________________________________________________\n",
      " Layer (type)                Output Shape              Param #   \n",
      "=================================================================\n",
      " gru (GRU)                   (None, 50)                7950      \n",
      "                                                                 \n",
      " dense (Dense)               (None, 40)                2040      \n",
      "                                                                 \n",
      " dense_1 (Dense)             (None, 40)                1640      \n",
      "                                                                 \n",
      " dense_2 (Dense)             (None, 1)                 41        \n",
      "                                                                 \n",
      "=================================================================\n",
      "Total params: 11,671\n",
      "Trainable params: 11,671\n",
      "Non-trainable params: 0\n",
      "_________________________________________________________________\n"
     ]
    }
   ],
   "source": [
    "model.summary()"
   ]
  },
  {
   "cell_type": "code",
   "execution_count": 24,
   "metadata": {
    "colab": {
     "base_uri": "https://localhost:8080/"
    },
    "id": "p8yqUZaz7nwp",
    "outputId": "94c9f117-53be-438c-ba31-d7c7fa546f42"
   },
   "outputs": [
    {
     "name": "stdout",
     "output_type": "stream",
     "text": [
      "Epoch 1/10\n",
      "225/225 [==============================] - 3s 5ms/step - loss: 0.3048 - root_mean_squared_error: 0.5520\n",
      "Epoch 2/10\n",
      "225/225 [==============================] - 1s 5ms/step - loss: 0.2309 - root_mean_squared_error: 0.4805\n",
      "Epoch 3/10\n",
      "225/225 [==============================] - 1s 5ms/step - loss: 0.1713 - root_mean_squared_error: 0.4139\n",
      "Epoch 4/10\n",
      "225/225 [==============================] - 1s 5ms/step - loss: 0.1255 - root_mean_squared_error: 0.3542\n",
      "Epoch 5/10\n",
      "225/225 [==============================] - 1s 5ms/step - loss: 0.0895 - root_mean_squared_error: 0.2991\n",
      "Epoch 6/10\n",
      "225/225 [==============================] - 1s 5ms/step - loss: 0.0622 - root_mean_squared_error: 0.2495\n",
      "Epoch 7/10\n",
      "225/225 [==============================] - 1s 4ms/step - loss: 0.0423 - root_mean_squared_error: 0.2057\n",
      "Epoch 8/10\n",
      "225/225 [==============================] - 1s 5ms/step - loss: 0.0302 - root_mean_squared_error: 0.1738\n",
      "Epoch 9/10\n",
      "225/225 [==============================] - 1s 4ms/step - loss: 0.0247 - root_mean_squared_error: 0.1573\n",
      "Epoch 10/10\n",
      "225/225 [==============================] - 1s 4ms/step - loss: 0.0228 - root_mean_squared_error: 0.1511\n"
     ]
    },
    {
     "data": {
      "text/plain": [
       "<keras.callbacks.History at 0x2a97e5f2a88>"
      ]
     },
     "execution_count": 24,
     "metadata": {},
     "output_type": "execute_result"
    }
   ],
   "source": [
    "# fit model - a partir de 3 épocas ja não tem mais ganho\n",
    "model.fit(generator,epochs=10)"
   ]
  },
  {
   "cell_type": "code",
   "execution_count": 25,
   "metadata": {
    "colab": {
     "base_uri": "https://localhost:8080/",
     "height": 282
    },
    "id": "OjDsOKR67rs8",
    "outputId": "46a3d438-6cea-4a47-f4bf-b60f2246561d"
   },
   "outputs": [
    {
     "data": {
      "text/plain": [
       "[<matplotlib.lines.Line2D at 0x2a9091fe988>]"
      ]
     },
     "execution_count": 25,
     "metadata": {},
     "output_type": "execute_result"
    },
    {
     "data": {
      "image/png": "[encoded data removed]",
      "text/plain": [
       "<Figure size 432x288 with 1 Axes>"
      ]
     },
     "metadata": {
      "needs_background": "light"
     },
     "output_type": "display_data"
    }
   ],
   "source": [
    "loss_per_epoch = model.history.history['loss']\n",
    "plt.plot(range(len(loss_per_epoch)),loss_per_epoch)"
   ]
  },
  {
   "cell_type": "code",
   "execution_count": 26,
   "metadata": {},
   "outputs": [],
   "source": [
    "last_train_batch = scaled_train[-n_input:]"
   ]
  },
  {
   "cell_type": "code",
   "execution_count": 27,
   "metadata": {
    "id": "cwwv8O-p79bN"
   },
   "outputs": [],
   "source": [
    "last_train_batch = last_train_batch.reshape((1, n_input, n_features))"
   ]
  },
  {
   "cell_type": "code",
   "execution_count": 28,
   "metadata": {
    "colab": {
     "base_uri": "https://localhost:8080/"
    },
    "id": "v-4WD4t78MpJ",
    "outputId": "6f5ab088-0933-41e7-cf6a-239dc4236d6d"
   },
   "outputs": [
    {
     "name": "stdout",
     "output_type": "stream",
     "text": [
      "1/1 [==============================] - 0s 295ms/step\n"
     ]
    },
    {
     "data": {
      "text/plain": [
       "array([[0.5110657]], dtype=float32)"
      ]
     },
     "execution_count": 28,
     "metadata": {},
     "output_type": "execute_result"
    }
   ],
   "source": [
    "model.predict(last_train_batch)"
   ]
  },
  {
   "cell_type": "code",
   "execution_count": 29,
   "metadata": {
    "colab": {
     "base_uri": "https://localhost:8080/"
    },
    "id": "ZbojFADE8StA",
    "outputId": "e708a2e2-ccf1-48e7-cace-a3b7a6202de1"
   },
   "outputs": [
    {
     "data": {
      "text/plain": [
       "array([0.62068966])"
      ]
     },
     "execution_count": 29,
     "metadata": {},
     "output_type": "execute_result"
    }
   ],
   "source": [
    "scaled_test[0]"
   ]
  },
  {
   "cell_type": "code",
   "execution_count": 30,
   "metadata": {
    "id": "_MP-5Wez8jbY"
   },
   "outputs": [
    {
     "name": "stdout",
     "output_type": "stream",
     "text": [
      "1/1 [==============================] - 0s 13ms/step\n",
      "1/1 [==============================] - 0s 16ms/step\n",
      "1/1 [==============================] - 0s 18ms/step\n",
      "1/1 [==============================] - 0s 18ms/step\n",
      "1/1 [==============================] - 0s 4ms/step\n",
      "1/1 [==============================] - 0s 15ms/step\n",
      "1/1 [==============================] - 0s 18ms/step\n",
      "1/1 [==============================] - 0s 18ms/step\n",
      "1/1 [==============================] - 0s 17ms/step\n",
      "1/1 [==============================] - 0s 14ms/step\n",
      "1/1 [==============================] - 0s 16ms/step\n",
      "1/1 [==============================] - 0s 14ms/step\n",
      "1/1 [==============================] - 0s 17ms/step\n",
      "1/1 [==============================] - 0s 21ms/step\n",
      "1/1 [==============================] - 0s 15ms/step\n",
      "1/1 [==============================] - 0s 16ms/step\n",
      "1/1 [==============================] - 0s 14ms/step\n",
      "1/1 [==============================] - 0s 8ms/step\n",
      "1/1 [==============================] - 0s 16ms/step\n",
      "1/1 [==============================] - 0s 8ms/step\n",
      "1/1 [==============================] - 0s 13ms/step\n",
      "1/1 [==============================] - 0s 16ms/step\n",
      "1/1 [==============================] - 0s 14ms/step\n",
      "1/1 [==============================] - 0s 15ms/step\n",
      "1/1 [==============================] - 0s 14ms/step\n",
      "1/1 [==============================] - 0s 17ms/step\n",
      "1/1 [==============================] - 0s 13ms/step\n",
      "1/1 [==============================] - 0s 24ms/step\n",
      "1/1 [==============================] - 0s 14ms/step\n",
      "1/1 [==============================] - 0s 19ms/step\n",
      "1/1 [==============================] - 0s 17ms/step\n",
      "1/1 [==============================] - 0s 19ms/step\n",
      "1/1 [==============================] - 0s 15ms/step\n",
      "1/1 [==============================] - 0s 24ms/step\n",
      "1/1 [==============================] - 0s 14ms/step\n",
      "1/1 [==============================] - 0s 21ms/step\n",
      "1/1 [==============================] - 0s 16ms/step\n",
      "1/1 [==============================] - 0s 21ms/step\n",
      "1/1 [==============================] - 0s 14ms/step\n",
      "1/1 [==============================] - 0s 19ms/step\n",
      "1/1 [==============================] - 0s 15ms/step\n",
      "1/1 [==============================] - 0s 21ms/step\n",
      "1/1 [==============================] - 0s 14ms/step\n",
      "1/1 [==============================] - 0s 16ms/step\n",
      "1/1 [==============================] - 0s 15ms/step\n",
      "1/1 [==============================] - 0s 17ms/step\n",
      "1/1 [==============================] - 0s 16ms/step\n",
      "1/1 [==============================] - 0s 20ms/step\n",
      "1/1 [==============================] - 0s 14ms/step\n",
      "1/1 [==============================] - 0s 16ms/step\n",
      "1/1 [==============================] - 0s 24ms/step\n",
      "1/1 [==============================] - 0s 16ms/step\n",
      "1/1 [==============================] - 0s 15ms/step\n",
      "1/1 [==============================] - 0s 17ms/step\n",
      "1/1 [==============================] - 0s 27ms/step\n",
      "1/1 [==============================] - 0s 16ms/step\n",
      "1/1 [==============================] - 0s 15ms/step\n",
      "1/1 [==============================] - 0s 17ms/step\n",
      "1/1 [==============================] - 0s 19ms/step\n",
      "1/1 [==============================] - 0s 18ms/step\n",
      "1/1 [==============================] - 0s 17ms/step\n",
      "1/1 [==============================] - 0s 14ms/step\n",
      "1/1 [==============================] - 0s 17ms/step\n",
      "1/1 [==============================] - 0s 14ms/step\n",
      "1/1 [==============================] - 0s 16ms/step\n",
      "1/1 [==============================] - 0s 14ms/step\n",
      "1/1 [==============================] - 0s 12ms/step\n",
      "1/1 [==============================] - 0s 21ms/step\n",
      "1/1 [==============================] - 0s 16ms/step\n",
      "1/1 [==============================] - 0s 14ms/step\n",
      "1/1 [==============================] - 0s 16ms/step\n",
      "1/1 [==============================] - 0s 19ms/step\n",
      "1/1 [==============================] - 0s 13ms/step\n",
      "1/1 [==============================] - 0s 19ms/step\n",
      "1/1 [==============================] - 0s 19ms/step\n",
      "1/1 [==============================] - 0s 16ms/step\n",
      "1/1 [==============================] - 0s 14ms/step\n",
      "1/1 [==============================] - 0s 16ms/step\n",
      "1/1 [==============================] - 0s 13ms/step\n",
      "1/1 [==============================] - 0s 17ms/step\n",
      "1/1 [==============================] - 0s 18ms/step\n",
      "1/1 [==============================] - 0s 18ms/step\n",
      "1/1 [==============================] - 0s 16ms/step\n",
      "1/1 [==============================] - 0s 15ms/step\n",
      "1/1 [==============================] - 0s 19ms/step\n",
      "1/1 [==============================] - 0s 26ms/step\n",
      "1/1 [==============================] - 0s 15ms/step\n",
      "1/1 [==============================] - 0s 14ms/step\n",
      "1/1 [==============================] - 0s 23ms/step\n",
      "1/1 [==============================] - 0s 14ms/step\n",
      "1/1 [==============================] - 0s 16ms/step\n",
      "1/1 [==============================] - 0s 14ms/step\n",
      "1/1 [==============================] - 0s 16ms/step\n",
      "1/1 [==============================] - 0s 15ms/step\n",
      "1/1 [==============================] - 0s 16ms/step\n",
      "1/1 [==============================] - 0s 19ms/step\n",
      "1/1 [==============================] - 0s 19ms/step\n",
      "1/1 [==============================] - 0s 5ms/step\n",
      "1/1 [==============================] - 0s 14ms/step\n",
      "1/1 [==============================] - 0s 16ms/step\n",
      "1/1 [==============================] - 0s 13ms/step\n",
      "1/1 [==============================] - 0s 16ms/step\n",
      "1/1 [==============================] - 0s 18ms/step\n",
      "1/1 [==============================] - 0s 14ms/step\n",
      "1/1 [==============================] - 0s 19ms/step\n",
      "1/1 [==============================] - 0s 19ms/step\n",
      "1/1 [==============================] - 0s 17ms/step\n",
      "1/1 [==============================] - 0s 15ms/step\n",
      "1/1 [==============================] - 0s 16ms/step\n",
      "1/1 [==============================] - 0s 15ms/step\n",
      "1/1 [==============================] - 0s 14ms/step\n",
      "1/1 [==============================] - 0s 17ms/step\n",
      "1/1 [==============================] - 0s 16ms/step\n",
      "1/1 [==============================] - 0s 14ms/step\n",
      "1/1 [==============================] - 0s 14ms/step\n",
      "1/1 [==============================] - 0s 14ms/step\n",
      "1/1 [==============================] - 0s 13ms/step\n",
      "1/1 [==============================] - 0s 16ms/step\n",
      "1/1 [==============================] - 0s 16ms/step\n",
      "1/1 [==============================] - 0s 14ms/step\n"
     ]
    }
   ],
   "source": [
    "test_predictions = []\n",
    "\n",
    "first_eval_batch = scaled_train[-n_input:]\n",
    "current_batch = first_eval_batch.reshape((1, n_input, n_features))\n",
    "\n",
    "for i in range(len(test)):\n",
    "    \n",
    "    # get the prediction value for the first batch\n",
    "    current_pred = model.predict(current_batch)[0]\n",
    "    \n",
    "    # append the prediction into the array\n",
    "    test_predictions.append(current_pred) \n",
    "    \n",
    "    # use the prediction to update the batch and remove the first value\n",
    "    current_batch = np.append(current_batch[:,1:,:],[[current_pred]],axis=1)"
   ]
  },
  {
   "cell_type": "code",
   "execution_count": 31,
   "metadata": {
    "colab": {
     "base_uri": "https://localhost:8080/"
    },
    "id": "_mhvFuEy8sB7",
    "outputId": "e65693ce-1c66-46b1-91e2-069e239ca984"
   },
   "outputs": [
    {
     "data": {
      "text/plain": [
       "[array([0.5110657], dtype=float32),\n",
       " array([0.50372505], dtype=float32),\n",
       " array([0.49761307], dtype=float32),\n",
       " array([0.49179572], dtype=float32),\n",
       " array([0.48706758], dtype=float32),\n",
       " array([0.48284268], dtype=float32),\n",
       " array([0.47915992], dtype=float32),\n",
       " array([0.47608274], dtype=float32),\n",
       " array([0.47305924], dtype=float32),\n",
       " array([0.47034496], dtype=float32),\n",
       " array([0.46774563], dtype=float32),\n",
       " array([0.4657818], dtype=float32),\n",
       " array([0.46402645], dtype=float32),\n",
       " array([0.46271378], dtype=float32),\n",
       " array([0.46162704], dtype=float32),\n",
       " array([0.4605264], dtype=float32),\n",
       " array([0.45956463], dtype=float32),\n",
       " array([0.4587232], dtype=float32),\n",
       " array([0.4579876], dtype=float32),\n",
       " array([0.45734408], dtype=float32),\n",
       " array([0.45678118], dtype=float32),\n",
       " array([0.45628887], dtype=float32),\n",
       " array([0.45585823], dtype=float32),\n",
       " array([0.45548192], dtype=float32),\n",
       " array([0.45515317], dtype=float32),\n",
       " array([0.45486623], dtype=float32),\n",
       " array([0.4546156], dtype=float32),\n",
       " array([0.45439658], dtype=float32),\n",
       " array([0.4542048], dtype=float32),\n",
       " array([0.4540369], dtype=float32),\n",
       " array([0.4538901], dtype=float32),\n",
       " array([0.45376164], dtype=float32),\n",
       " array([0.4536493], dtype=float32),\n",
       " array([0.45355123], dtype=float32),\n",
       " array([0.45346534], dtype=float32),\n",
       " array([0.4533903], dtype=float32),\n",
       " array([0.45332462], dtype=float32),\n",
       " array([0.45326728], dtype=float32),\n",
       " array([0.45321703], dtype=float32),\n",
       " array([0.45317316], dtype=float32),\n",
       " array([0.45313483], dtype=float32),\n",
       " array([0.45310125], dtype=float32),\n",
       " array([0.45307183], dtype=float32),\n",
       " array([0.4530462], dtype=float32),\n",
       " array([0.45302373], dtype=float32),\n",
       " array([0.45300412], dtype=float32),\n",
       " array([0.45298696], dtype=float32),\n",
       " array([0.45297194], dtype=float32),\n",
       " array([0.45295876], dtype=float32),\n",
       " array([0.4529473], dtype=float32),\n",
       " array([0.45293733], dtype=float32),\n",
       " array([0.45292848], dtype=float32),\n",
       " array([0.45292085], dtype=float32),\n",
       " array([0.45291415], dtype=float32),\n",
       " array([0.45290828], dtype=float32),\n",
       " array([0.45290315], dtype=float32),\n",
       " array([0.45289862], dtype=float32),\n",
       " array([0.45289472], dtype=float32),\n",
       " array([0.45289135], dtype=float32),\n",
       " array([0.4528883], dtype=float32),\n",
       " array([0.4528857], dtype=float32),\n",
       " array([0.45288336], dtype=float32),\n",
       " array([0.4528814], dtype=float32),\n",
       " array([0.45287964], dtype=float32),\n",
       " array([0.4528781], dtype=float32),\n",
       " array([0.45287675], dtype=float32),\n",
       " array([0.45287555], dtype=float32),\n",
       " array([0.4528746], dtype=float32),\n",
       " array([0.45287362], dtype=float32),\n",
       " array([0.45287293], dtype=float32),\n",
       " array([0.45287216], dtype=float32),\n",
       " array([0.45287162], dtype=float32),\n",
       " array([0.45287114], dtype=float32),\n",
       " array([0.4528706], dtype=float32),\n",
       " array([0.45287022], dtype=float32),\n",
       " array([0.45286977], dtype=float32),\n",
       " array([0.45286956], dtype=float32),\n",
       " array([0.45286933], dtype=float32),\n",
       " array([0.45286903], dtype=float32),\n",
       " array([0.45286885], dtype=float32),\n",
       " array([0.45286864], dtype=float32),\n",
       " array([0.45286852], dtype=float32),\n",
       " array([0.45286834], dtype=float32),\n",
       " array([0.45286822], dtype=float32),\n",
       " array([0.45286816], dtype=float32),\n",
       " array([0.45286807], dtype=float32),\n",
       " array([0.452868], dtype=float32),\n",
       " array([0.45286793], dtype=float32),\n",
       " array([0.45286784], dtype=float32),\n",
       " array([0.4528678], dtype=float32),\n",
       " array([0.45286775], dtype=float32),\n",
       " array([0.45286772], dtype=float32),\n",
       " array([0.4528677], dtype=float32),\n",
       " array([0.45286763], dtype=float32),\n",
       " array([0.45286763], dtype=float32),\n",
       " array([0.4528676], dtype=float32),\n",
       " array([0.45286757], dtype=float32),\n",
       " array([0.45286757], dtype=float32),\n",
       " array([0.45286754], dtype=float32),\n",
       " array([0.45286754], dtype=float32),\n",
       " array([0.45286754], dtype=float32),\n",
       " array([0.4528675], dtype=float32),\n",
       " array([0.45286745], dtype=float32),\n",
       " array([0.45286745], dtype=float32),\n",
       " array([0.45286745], dtype=float32),\n",
       " array([0.45286745], dtype=float32),\n",
       " array([0.45286742], dtype=float32),\n",
       " array([0.45286742], dtype=float32),\n",
       " array([0.4528674], dtype=float32),\n",
       " array([0.4528674], dtype=float32),\n",
       " array([0.4528674], dtype=float32),\n",
       " array([0.4528674], dtype=float32),\n",
       " array([0.4528674], dtype=float32),\n",
       " array([0.4528674], dtype=float32),\n",
       " array([0.4528674], dtype=float32),\n",
       " array([0.45286742], dtype=float32),\n",
       " array([0.4528674], dtype=float32),\n",
       " array([0.4528674], dtype=float32),\n",
       " array([0.45286742], dtype=float32),\n",
       " array([0.4528674], dtype=float32)]"
      ]
     },
     "execution_count": 31,
     "metadata": {},
     "output_type": "execute_result"
    }
   ],
   "source": [
    "test_predictions"
   ]
  },
  {
   "cell_type": "code",
   "execution_count": 32,
   "metadata": {
    "colab": {
     "base_uri": "https://localhost:8080/",
     "height": 228
    },
    "id": "YYSqV10E9hlO",
    "outputId": "fe8ed427-3d97-429e-9349-115ba1168bc0"
   },
   "outputs": [
    {
     "data": {
      "text/html": [
       "<div>\n",
       "<style scoped>\n",
       "    .dataframe tbody tr th:only-of-type {\n",
       "        vertical-align: middle;\n",
       "    }\n",
       "\n",
       "    .dataframe tbody tr th {\n",
       "        vertical-align: top;\n",
       "    }\n",
       "\n",
       "    .dataframe thead th {\n",
       "        text-align: right;\n",
       "    }\n",
       "</style>\n",
       "<table border=\"1\" class=\"dataframe\">\n",
       "  <thead>\n",
       "    <tr style=\"text-align: right;\">\n",
       "      <th></th>\n",
       "      <th>TempoMinutos</th>\n",
       "    </tr>\n",
       "    <tr>\n",
       "      <th>DiaInicio</th>\n",
       "      <th></th>\n",
       "    </tr>\n",
       "  </thead>\n",
       "  <tbody>\n",
       "    <tr>\n",
       "      <th>2021-09-01</th>\n",
       "      <td>380</td>\n",
       "    </tr>\n",
       "    <tr>\n",
       "      <th>2021-09-02</th>\n",
       "      <td>402</td>\n",
       "    </tr>\n",
       "    <tr>\n",
       "      <th>2021-09-03</th>\n",
       "      <td>356</td>\n",
       "    </tr>\n",
       "    <tr>\n",
       "      <th>2021-09-04</th>\n",
       "      <td>430</td>\n",
       "    </tr>\n",
       "    <tr>\n",
       "      <th>2021-09-05</th>\n",
       "      <td>431</td>\n",
       "    </tr>\n",
       "  </tbody>\n",
       "</table>\n",
       "</div>"
      ],
      "text/plain": [
       "            TempoMinutos\n",
       "DiaInicio               \n",
       "2021-09-01           380\n",
       "2021-09-02           402\n",
       "2021-09-03           356\n",
       "2021-09-04           430\n",
       "2021-09-05           431"
      ]
     },
     "execution_count": 32,
     "metadata": {},
     "output_type": "execute_result"
    }
   ],
   "source": [
    "test.head()"
   ]
  },
  {
   "cell_type": "code",
   "execution_count": 33,
   "metadata": {
    "id": "BHHzjNDK9EJZ"
   },
   "outputs": [],
   "source": [
    "true_predictions = scaler.inverse_transform(test_predictions)"
   ]
  },
  {
   "cell_type": "code",
   "execution_count": 34,
   "metadata": {
    "id": "0dsN45zf9I9u"
   },
   "outputs": [
    {
     "name": "stderr",
     "output_type": "stream",
     "text": [
      "C:\\Users\\Michael\\anaconda3\\lib\\site-packages\\ipykernel_launcher.py:1: SettingWithCopyWarning: \n",
      "A value is trying to be set on a copy of a slice from a DataFrame.\n",
      "Try using .loc[row_indexer,col_indexer] = value instead\n",
      "\n",
      "See the caveats in the documentation: https://pandas.pydata.org/pandas-docs/stable/user_guide/indexing.html#returning-a-view-versus-a-copy\n",
      "  \"\"\"Entry point for launching an IPython kernel.\n"
     ]
    }
   ],
   "source": [
    "test['Predictions'] = true_predictions"
   ]
  },
  {
   "cell_type": "code",
   "execution_count": 35,
   "metadata": {},
   "outputs": [
    {
     "data": {
      "text/html": [
       "<div>\n",
       "<style scoped>\n",
       "    .dataframe tbody tr th:only-of-type {\n",
       "        vertical-align: middle;\n",
       "    }\n",
       "\n",
       "    .dataframe tbody tr th {\n",
       "        vertical-align: top;\n",
       "    }\n",
       "\n",
       "    .dataframe thead th {\n",
       "        text-align: right;\n",
       "    }\n",
       "</style>\n",
       "<table border=\"1\" class=\"dataframe\">\n",
       "  <thead>\n",
       "    <tr style=\"text-align: right;\">\n",
       "      <th></th>\n",
       "      <th>TempoMinutos</th>\n",
       "      <th>Predictions</th>\n",
       "    </tr>\n",
       "    <tr>\n",
       "      <th>DiaInicio</th>\n",
       "      <th></th>\n",
       "      <th></th>\n",
       "    </tr>\n",
       "  </thead>\n",
       "  <tbody>\n",
       "    <tr>\n",
       "      <th>2021-09-01</th>\n",
       "      <td>380</td>\n",
       "      <td>335.492683</td>\n",
       "    </tr>\n",
       "    <tr>\n",
       "      <th>2021-09-02</th>\n",
       "      <td>402</td>\n",
       "      <td>332.512371</td>\n",
       "    </tr>\n",
       "    <tr>\n",
       "      <th>2021-09-03</th>\n",
       "      <td>356</td>\n",
       "      <td>330.030907</td>\n",
       "    </tr>\n",
       "    <tr>\n",
       "      <th>2021-09-04</th>\n",
       "      <td>430</td>\n",
       "      <td>327.669062</td>\n",
       "    </tr>\n",
       "    <tr>\n",
       "      <th>2021-09-05</th>\n",
       "      <td>431</td>\n",
       "      <td>325.749438</td>\n",
       "    </tr>\n",
       "    <tr>\n",
       "      <th>2021-09-06</th>\n",
       "      <td>423</td>\n",
       "      <td>324.034130</td>\n",
       "    </tr>\n",
       "    <tr>\n",
       "      <th>2021-09-07</th>\n",
       "      <td>400</td>\n",
       "      <td>322.538928</td>\n",
       "    </tr>\n",
       "    <tr>\n",
       "      <th>2021-09-08</th>\n",
       "      <td>543</td>\n",
       "      <td>321.289593</td>\n",
       "    </tr>\n",
       "    <tr>\n",
       "      <th>2021-09-09</th>\n",
       "      <td>351</td>\n",
       "      <td>320.062050</td>\n",
       "    </tr>\n",
       "    <tr>\n",
       "      <th>2021-09-10</th>\n",
       "      <td>514</td>\n",
       "      <td>318.960054</td>\n",
       "    </tr>\n",
       "    <tr>\n",
       "      <th>2021-09-11</th>\n",
       "      <td>386</td>\n",
       "      <td>317.904727</td>\n",
       "    </tr>\n",
       "    <tr>\n",
       "      <th>2021-09-12</th>\n",
       "      <td>390</td>\n",
       "      <td>317.107414</td>\n",
       "    </tr>\n",
       "    <tr>\n",
       "      <th>2021-09-13</th>\n",
       "      <td>376</td>\n",
       "      <td>316.394739</td>\n",
       "    </tr>\n",
       "    <tr>\n",
       "      <th>2021-09-14</th>\n",
       "      <td>378</td>\n",
       "      <td>315.861794</td>\n",
       "    </tr>\n",
       "    <tr>\n",
       "      <th>2021-09-15</th>\n",
       "      <td>304</td>\n",
       "      <td>315.420577</td>\n",
       "    </tr>\n",
       "    <tr>\n",
       "      <th>2021-09-16</th>\n",
       "      <td>375</td>\n",
       "      <td>314.973721</td>\n",
       "    </tr>\n",
       "    <tr>\n",
       "      <th>2021-09-17</th>\n",
       "      <td>362</td>\n",
       "      <td>314.583238</td>\n",
       "    </tr>\n",
       "    <tr>\n",
       "      <th>2021-09-18</th>\n",
       "      <td>365</td>\n",
       "      <td>314.241614</td>\n",
       "    </tr>\n",
       "    <tr>\n",
       "      <th>2021-09-19</th>\n",
       "      <td>367</td>\n",
       "      <td>313.942968</td>\n",
       "    </tr>\n",
       "    <tr>\n",
       "      <th>2021-09-20</th>\n",
       "      <td>371</td>\n",
       "      <td>313.681699</td>\n",
       "    </tr>\n",
       "  </tbody>\n",
       "</table>\n",
       "</div>"
      ],
      "text/plain": [
       "            TempoMinutos  Predictions\n",
       "DiaInicio                            \n",
       "2021-09-01           380   335.492683\n",
       "2021-09-02           402   332.512371\n",
       "2021-09-03           356   330.030907\n",
       "2021-09-04           430   327.669062\n",
       "2021-09-05           431   325.749438\n",
       "2021-09-06           423   324.034130\n",
       "2021-09-07           400   322.538928\n",
       "2021-09-08           543   321.289593\n",
       "2021-09-09           351   320.062050\n",
       "2021-09-10           514   318.960054\n",
       "2021-09-11           386   317.904727\n",
       "2021-09-12           390   317.107414\n",
       "2021-09-13           376   316.394739\n",
       "2021-09-14           378   315.861794\n",
       "2021-09-15           304   315.420577\n",
       "2021-09-16           375   314.973721\n",
       "2021-09-17           362   314.583238\n",
       "2021-09-18           365   314.241614\n",
       "2021-09-19           367   313.942968\n",
       "2021-09-20           371   313.681699"
      ]
     },
     "execution_count": 35,
     "metadata": {},
     "output_type": "execute_result"
    }
   ],
   "source": [
    "test.head(20)"
   ]
  },
  {
   "cell_type": "code",
   "execution_count": 36,
   "metadata": {
    "colab": {
     "base_uri": "https://localhost:8080/",
     "height": 366
    },
    "id": "xJ7sI5xh9Lb0",
    "outputId": "6aeaec0b-9c02-4d87-ca51-987048dae0ba"
   },
   "outputs": [
    {
     "data": {
      "text/plain": [
       "<matplotlib.axes._subplots.AxesSubplot at 0x2a9093dac48>"
      ]
     },
     "execution_count": 36,
     "metadata": {},
     "output_type": "execute_result"
    },
    {
     "data": {
      "image/png": "[encoded data removed]",
      "text/plain": [
       "<Figure size 1008x360 with 1 Axes>"
      ]
     },
     "metadata": {
      "needs_background": "light"
     },
     "output_type": "display_data"
    }
   ],
   "source": [
    "test.plot(figsize=(14,5))"
   ]
  },
  {
   "cell_type": "code",
   "execution_count": 37,
   "metadata": {
    "colab": {
     "base_uri": "https://localhost:8080/"
    },
    "id": "OCsYjzge9OVe",
    "outputId": "4771bf0b-a885-4e3f-d16e-b5b9bd255cc2"
   },
   "outputs": [
    {
     "name": "stdout",
     "output_type": "stream",
     "text": [
      "147.67097176447157\n"
     ]
    }
   ],
   "source": [
    "from sklearn.metrics import mean_squared_error\n",
    "from math import sqrt\n",
    "rmse=sqrt(mean_squared_error(test[coluna],test['Predictions']))\n",
    "print(rmse)"
   ]
  },
  {
   "cell_type": "code",
   "execution_count": 38,
   "metadata": {},
   "outputs": [
    {
     "name": "stderr",
     "output_type": "stream",
     "text": [
      "C:\\Users\\Michael\\anaconda3\\lib\\site-packages\\ipykernel_launcher.py:1: SettingWithCopyWarning: \n",
      "A value is trying to be set on a copy of a slice from a DataFrame.\n",
      "Try using .loc[row_indexer,col_indexer] = value instead\n",
      "\n",
      "See the caveats in the documentation: https://pandas.pydata.org/pandas-docs/stable/user_guide/indexing.html#returning-a-view-versus-a-copy\n",
      "  \"\"\"Entry point for launching an IPython kernel.\n"
     ]
    },
    {
     "data": {
      "text/html": [
       "<div>\n",
       "<style scoped>\n",
       "    .dataframe tbody tr th:only-of-type {\n",
       "        vertical-align: middle;\n",
       "    }\n",
       "\n",
       "    .dataframe tbody tr th {\n",
       "        vertical-align: top;\n",
       "    }\n",
       "\n",
       "    .dataframe thead th {\n",
       "        text-align: right;\n",
       "    }\n",
       "</style>\n",
       "<table border=\"1\" class=\"dataframe\">\n",
       "  <thead>\n",
       "    <tr style=\"text-align: right;\">\n",
       "      <th></th>\n",
       "      <th>TempoMinutos</th>\n",
       "      <th>Predictions</th>\n",
       "      <th>Diferenca</th>\n",
       "    </tr>\n",
       "    <tr>\n",
       "      <th>DiaInicio</th>\n",
       "      <th></th>\n",
       "      <th></th>\n",
       "      <th></th>\n",
       "    </tr>\n",
       "  </thead>\n",
       "  <tbody>\n",
       "    <tr>\n",
       "      <th>2021-09-01</th>\n",
       "      <td>380</td>\n",
       "      <td>335.492683</td>\n",
       "      <td>44.507317</td>\n",
       "    </tr>\n",
       "    <tr>\n",
       "      <th>2021-09-02</th>\n",
       "      <td>402</td>\n",
       "      <td>332.512371</td>\n",
       "      <td>69.487629</td>\n",
       "    </tr>\n",
       "    <tr>\n",
       "      <th>2021-09-03</th>\n",
       "      <td>356</td>\n",
       "      <td>330.030907</td>\n",
       "      <td>25.969093</td>\n",
       "    </tr>\n",
       "    <tr>\n",
       "      <th>2021-09-04</th>\n",
       "      <td>430</td>\n",
       "      <td>327.669062</td>\n",
       "      <td>102.330938</td>\n",
       "    </tr>\n",
       "    <tr>\n",
       "      <th>2021-09-05</th>\n",
       "      <td>431</td>\n",
       "      <td>325.749438</td>\n",
       "      <td>105.250562</td>\n",
       "    </tr>\n",
       "    <tr>\n",
       "      <th>2021-09-06</th>\n",
       "      <td>423</td>\n",
       "      <td>324.034130</td>\n",
       "      <td>98.965870</td>\n",
       "    </tr>\n",
       "    <tr>\n",
       "      <th>2021-09-07</th>\n",
       "      <td>400</td>\n",
       "      <td>322.538928</td>\n",
       "      <td>77.461072</td>\n",
       "    </tr>\n",
       "    <tr>\n",
       "      <th>2021-09-08</th>\n",
       "      <td>543</td>\n",
       "      <td>321.289593</td>\n",
       "      <td>221.710407</td>\n",
       "    </tr>\n",
       "    <tr>\n",
       "      <th>2021-09-09</th>\n",
       "      <td>351</td>\n",
       "      <td>320.062050</td>\n",
       "      <td>30.937950</td>\n",
       "    </tr>\n",
       "    <tr>\n",
       "      <th>2021-09-10</th>\n",
       "      <td>514</td>\n",
       "      <td>318.960054</td>\n",
       "      <td>195.039946</td>\n",
       "    </tr>\n",
       "    <tr>\n",
       "      <th>2021-09-11</th>\n",
       "      <td>386</td>\n",
       "      <td>317.904727</td>\n",
       "      <td>68.095273</td>\n",
       "    </tr>\n",
       "    <tr>\n",
       "      <th>2021-09-12</th>\n",
       "      <td>390</td>\n",
       "      <td>317.107414</td>\n",
       "      <td>72.892586</td>\n",
       "    </tr>\n",
       "    <tr>\n",
       "      <th>2021-09-13</th>\n",
       "      <td>376</td>\n",
       "      <td>316.394739</td>\n",
       "      <td>59.605261</td>\n",
       "    </tr>\n",
       "    <tr>\n",
       "      <th>2021-09-14</th>\n",
       "      <td>378</td>\n",
       "      <td>315.861794</td>\n",
       "      <td>62.138206</td>\n",
       "    </tr>\n",
       "    <tr>\n",
       "      <th>2021-09-15</th>\n",
       "      <td>304</td>\n",
       "      <td>315.420577</td>\n",
       "      <td>11.420577</td>\n",
       "    </tr>\n",
       "    <tr>\n",
       "      <th>2021-09-16</th>\n",
       "      <td>375</td>\n",
       "      <td>314.973721</td>\n",
       "      <td>60.026279</td>\n",
       "    </tr>\n",
       "    <tr>\n",
       "      <th>2021-09-17</th>\n",
       "      <td>362</td>\n",
       "      <td>314.583238</td>\n",
       "      <td>47.416762</td>\n",
       "    </tr>\n",
       "    <tr>\n",
       "      <th>2021-09-18</th>\n",
       "      <td>365</td>\n",
       "      <td>314.241614</td>\n",
       "      <td>50.758386</td>\n",
       "    </tr>\n",
       "    <tr>\n",
       "      <th>2021-09-19</th>\n",
       "      <td>367</td>\n",
       "      <td>313.942968</td>\n",
       "      <td>53.057032</td>\n",
       "    </tr>\n",
       "    <tr>\n",
       "      <th>2021-09-20</th>\n",
       "      <td>371</td>\n",
       "      <td>313.681699</td>\n",
       "      <td>57.318301</td>\n",
       "    </tr>\n",
       "  </tbody>\n",
       "</table>\n",
       "</div>"
      ],
      "text/plain": [
       "            TempoMinutos  Predictions   Diferenca\n",
       "DiaInicio                                        \n",
       "2021-09-01           380   335.492683   44.507317\n",
       "2021-09-02           402   332.512371   69.487629\n",
       "2021-09-03           356   330.030907   25.969093\n",
       "2021-09-04           430   327.669062  102.330938\n",
       "2021-09-05           431   325.749438  105.250562\n",
       "2021-09-06           423   324.034130   98.965870\n",
       "2021-09-07           400   322.538928   77.461072\n",
       "2021-09-08           543   321.289593  221.710407\n",
       "2021-09-09           351   320.062050   30.937950\n",
       "2021-09-10           514   318.960054  195.039946\n",
       "2021-09-11           386   317.904727   68.095273\n",
       "2021-09-12           390   317.107414   72.892586\n",
       "2021-09-13           376   316.394739   59.605261\n",
       "2021-09-14           378   315.861794   62.138206\n",
       "2021-09-15           304   315.420577   11.420577\n",
       "2021-09-16           375   314.973721   60.026279\n",
       "2021-09-17           362   314.583238   47.416762\n",
       "2021-09-18           365   314.241614   50.758386\n",
       "2021-09-19           367   313.942968   53.057032\n",
       "2021-09-20           371   313.681699   57.318301"
      ]
     },
     "execution_count": 38,
     "metadata": {},
     "output_type": "execute_result"
    }
   ],
   "source": [
    "test['Diferenca'] = abs(test[coluna]- test['Predictions']) # módulo da diferença\n",
    "test.head(20)"
   ]
  },
  {
   "cell_type": "code",
   "execution_count": null,
   "metadata": {},
   "outputs": [],
   "source": [
    "'''\n",
    "Resumo:  GRU\n",
    "\n",
    "a) Tempo de duração da Rotina 04 - Dados NORMALIZADOS\n",
    "\n",
    "processo = 'Rotina_04' \n",
    "coluna = 'TempoMinutos'\n",
    "\n",
    "3/4    (75% / 25%)\tARIMA(2,1,0)(0,1,1)[12] \tRMSE: 62,27\n",
    "\n",
    "-----------------------------------------------------------------------------\n",
    "\n",
    "n_previsoes=15\n",
    "n_input = 7\n",
    "model.add(Conv1D(80, kernel_size=2))\n",
    "model.add(Dense(60, 'relu'))\n",
    "model.add(Dense(60, 'relu'))\n",
    "RMSE:   57.95804613623178\n",
    "\n",
    "n_previsoes=30\n",
    "n_input = 7\n",
    "model.add(Conv1D(80, kernel_size=2))\n",
    "model.add(Dense(60, 'relu'))\n",
    "model.add(Dense(60, 'relu'))\n",
    "RMSE:   90.97874891819417\n",
    "\n",
    "n_previsoes=60\n",
    "n_input = 7\n",
    "model.add(Conv1D(80, kernel_size=2))\n",
    "model.add(Dense(60, 'relu'))\n",
    "model.add(Dense(60, 'relu'))\n",
    "RMSE:   136.1622753211613\n",
    "\n",
    "n_previsoes=120\n",
    "n_input = 7\n",
    "model.add(Conv1D(80, kernel_size=2))\n",
    "model.add(Dense(60, 'relu'))\n",
    "model.add(Dense(60, 'relu'))\n",
    "RMSE:   136.62609714514605\n",
    "\n",
    "-----------------------------------------------------------------------------\n",
    "\n",
    "n_previsoes=15\n",
    "n_input = 14\n",
    "model.add(Conv1D(80, kernel_size=2))\n",
    "model.add(Dense(60, 'relu'))\n",
    "model.add(Dense(60, 'relu'))\n",
    "RMSE:  48.63340461895614\n",
    "\n",
    "n_previsoes=30\n",
    "n_input = 14\n",
    "model.add(Conv1D(80, kernel_size=2))\n",
    "model.add(Dense(60, 'relu'))\n",
    "model.add(Dense(60, 'relu'))\n",
    "RMSE:  81.02706749447549\n",
    "\n",
    "n_previsoes=60\n",
    "n_input = 14\n",
    "model.add(Conv1D(80, kernel_size=2))\n",
    "model.add(Dense(60, 'relu'))\n",
    "model.add(Dense(60, 'relu'))\n",
    "RMSE:  139.88262296948292\n",
    "\n",
    "n_previsoes=120\n",
    "n_input = 14\n",
    "model.add(Conv1D(80, kernel_size=2))\n",
    "model.add(Dense(60, 'relu'))\n",
    "model.add(Dense(60, 'relu'))\n",
    "RMSE:  138.1778941858385\n",
    "\n",
    "-----------------------------------------------------------------------------\n",
    "\n",
    "n_previsoes=15\n",
    "n_input = 14\n",
    "model.add(Conv1D(60, kernel_size=2))\n",
    "model.add(Dense(50, 'relu'))\n",
    "model.add(Dense(50, 'relu'))\n",
    "RMSE:  52.210669366012\n",
    "\n",
    "n_previsoes=30\n",
    "n_input = 14\n",
    "model.add(Conv1D(60, kernel_size=2))\n",
    "model.add(Dense(50, 'relu'))\n",
    "model.add(Dense(50, 'relu'))\n",
    "RMSE:   74.5219370395821\n",
    "\n",
    "n_previsoes=60\n",
    "n_input = 14\n",
    "model.add(Conv1D(60, kernel_size=2))\n",
    "model.add(Dense(50, 'relu'))\n",
    "model.add(Dense(50, 'relu'))\n",
    "RMSE:   136.63737342803327\n",
    "\n",
    "n_previsoes=120\n",
    "n_input = 14\n",
    "model.add(Conv1D(60, kernel_size=2))\n",
    "model.add(Dense(50, 'relu'))\n",
    "model.add(Dense(50, 'relu'))\n",
    "RMSE:   133.41267336584824\n",
    "\n",
    "-----------------------------------------------------------------------------\n",
    "\n",
    "\n",
    "n_previsoes=15\n",
    "n_input = 14\n",
    "model.add(Conv1D(50, kernel_size=2))\n",
    "model.add(Dense(40, 'relu'))\n",
    "model.add(Dense(40, 'relu'))\n",
    "RMSE:   59.20766409688115\n",
    "\n",
    "n_previsoes=30\n",
    "n_input = 14\n",
    "model.add(Conv1D(50, kernel_size=2))\n",
    "model.add(Dense(40, 'relu'))\n",
    "model.add(Dense(40, 'relu'))\n",
    "RMSE:   91.78125631674007\n",
    "\n",
    "n_previsoes=60\n",
    "n_input = 14\n",
    "model.add(Conv1D(50, kernel_size=2))\n",
    "model.add(Dense(40, 'relu'))\n",
    "model.add(Dense(40, 'relu'))\n",
    "RMSE:    134.16715519313965\n",
    "\n",
    "n_previsoes=120\n",
    "n_input = 14\n",
    "model.add(Conv1D(50, kernel_size=2))\n",
    "model.add(Dense(40, 'relu'))\n",
    "model.add(Dense(40, 'relu'))\n",
    "RMSE:   147.67097176447157\n",
    "\n",
    "-----------------------------------------------------------------------------\n",
    "\n",
    "'''"
   ]
  }
 ],
 "metadata": {
  "colab": {
   "collapsed_sections": [],
   "name": "RNN_Youtube.ipynb",
   "provenance": []
  },
  "kernelspec": {
   "display_name": "Python 3",
   "language": "python",
   "name": "python3"
  },
  "language_info": {
   "codemirror_mode": {
    "name": "ipython",
    "version": 3
   },
   "file_extension": ".py",
   "mimetype": "text/x-python",
   "name": "python",
   "nbconvert_exporter": "python",
   "pygments_lexer": "ipython3",
   "version": "3.7.6"
  }
 },
 "nbformat": 4,
 "nbformat_minor": 1
}
